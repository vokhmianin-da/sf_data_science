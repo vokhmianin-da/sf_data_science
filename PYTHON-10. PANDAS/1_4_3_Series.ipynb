{
 "cells": [
  {
   "cell_type": "markdown",
   "metadata": {},
   "source": [
    "# Series"
   ]
  },
  {
   "cell_type": "code",
   "execution_count": 1,
   "metadata": {},
   "outputs": [],
   "source": [
    "import pandas as pd"
   ]
  },
  {
   "cell_type": "markdown",
   "metadata": {},
   "source": [
    "## Создание Series из списка:"
   ]
  },
  {
   "cell_type": "code",
   "execution_count": 2,
   "metadata": {},
   "outputs": [
    {
     "data": {
      "text/plain": [
       "UK       Англия\n",
       "CA       Канада\n",
       "US          США\n",
       "RU       Россия\n",
       "UA      Украина\n",
       "BY     Беларусь\n",
       "KZ    Казахстан\n",
       "Name: countries, dtype: object"
      ]
     },
     "metadata": {},
     "output_type": "display_data"
    }
   ],
   "source": [
    "countries = pd.Series( data = ['Англия', 'Канада', 'США', 'Россия', 'Украина', 'Беларусь', 'Казахстан'],\n",
    "                      index = ['UK', 'CA', 'US', 'RU', 'UA', 'BY', 'KZ'],\n",
    "                      name = 'countries')\n",
    "display(countries)"
   ]
  },
  {
   "cell_type": "markdown",
   "metadata": {},
   "source": [
    "## Создание Series из славаря:"
   ]
  },
  {
   "cell_type": "code",
   "execution_count": 3,
   "metadata": {},
   "outputs": [
    {
     "data": {
      "text/plain": [
       "UK       Англия\n",
       "CA       Канада\n",
       "US          США\n",
       "RU       Россия\n",
       "UA      Украина\n",
       "BY     Беларусь\n",
       "KZ    Казахстан\n",
       "Name: countries, dtype: object"
      ]
     },
     "metadata": {},
     "output_type": "display_data"
    }
   ],
   "source": [
    "countries = pd.Series( {\n",
    "    'UK' : 'Англия',\n",
    "    'CA' : 'Канада',\n",
    "    'US' : 'США',\n",
    "    'RU' : 'Россия',\n",
    "    'UA' : 'Украина',\n",
    "    'BY' : 'Беларусь',\n",
    "    'KZ' : 'Казахстан'\n",
    "},\n",
    "    name = 'countries')\n",
    "display(countries)"
   ]
  },
  {
   "cell_type": "markdown",
   "metadata": {},
   "source": [
    "## Доступ к данным в Series: \n",
    "\n",
    ".loc[] - доступ по по метке, для нескольких - в скобки передается список  \n",
    ".iloc[] - доступ по порядковому номеру, с 0. Для нескольких - срез\n",
    "\n",
    "Если достаем один элемент, то возвращается строка, а если несколько - то объект Series\n",
    "\n",
    "Можно обращаться и без loc и iloc, просто с квадратными скобками"
   ]
  },
  {
   "cell_type": "code",
   "execution_count": 4,
   "metadata": {},
   "outputs": [
    {
     "name": "stdout",
     "output_type": "stream",
     "text": [
      "США\n",
      "Казахстан\n",
      "US       США\n",
      "RU    Россия\n",
      "Name: countries, dtype: object\n",
      "CA    Канада\n",
      "US       США\n",
      "RU    Россия\n",
      "Name: countries, dtype: object\n"
     ]
    }
   ],
   "source": [
    "# Один элемент\n",
    "print(countries.loc['US'])\n",
    "print(countries.iloc[6])\n",
    "\n",
    "# Несколько элементов\n",
    "print(countries.loc[['US', 'RU']])\n",
    "print(countries.iloc[1:4])"
   ]
  }
 ],
 "metadata": {
  "kernelspec": {
   "display_name": "Python 3",
   "language": "python",
   "name": "python3"
  },
  "language_info": {
   "codemirror_mode": {
    "name": "ipython",
    "version": 3
   },
   "file_extension": ".py",
   "mimetype": "text/x-python",
   "name": "python",
   "nbconvert_exporter": "python",
   "pygments_lexer": "ipython3",
   "version": "3.13.0"
  }
 },
 "nbformat": 4,
 "nbformat_minor": 2
}
