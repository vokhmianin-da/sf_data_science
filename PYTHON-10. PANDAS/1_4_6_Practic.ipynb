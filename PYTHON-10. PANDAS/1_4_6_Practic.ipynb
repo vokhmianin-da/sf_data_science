{
 "cells": [
  {
   "cell_type": "code",
   "execution_count": 1,
   "metadata": {},
   "outputs": [
    {
     "data": {
      "text/plain": [
       "np.float64(1310000.0)"
      ]
     },
     "metadata": {},
     "output_type": "display_data"
    },
    {
     "data": {
      "text/plain": [
       "'10/09/2016'"
      ]
     },
     "metadata": {},
     "output_type": "display_data"
    },
    {
     "data": {
      "text/plain": [
       "np.float64(3.0)"
      ]
     },
     "metadata": {},
     "output_type": "display_data"
    }
   ],
   "source": [
    "import pandas as pd\n",
    "melb_data = pd.read_csv('data/melb_data.csv', sep=',')\n",
    "#display(melb_data)\n",
    "\n",
    "# Какова цена объекта недвижимости под индексом 15?\n",
    "price = melb_data.loc[15,'Price']\n",
    "display(price)\n",
    "\n",
    "# Когда был продан объект под индексом 90?\n",
    "date = melb_data.loc[90,'Date']\n",
    "display(date)\n",
    "\n",
    "# Во сколько раз площадь прилегающей территории, на которой находится здание с индексом 3521, больше площади участка, на котором находится здание с индексом 1690?\n",
    "# Ответ округлите до целого числа.\n",
    "area_diff = round(melb_data.loc[3521,'Landsize'] / melb_data.loc[1690,'Landsize'], 0)\n",
    "display(area_diff)"
   ]
  }
 ],
 "metadata": {
  "kernelspec": {
   "display_name": "Python 3",
   "language": "python",
   "name": "python3"
  },
  "language_info": {
   "codemirror_mode": {
    "name": "ipython",
    "version": 3
   },
   "file_extension": ".py",
   "mimetype": "text/x-python",
   "name": "python",
   "nbconvert_exporter": "python",
   "pygments_lexer": "ipython3",
   "version": "3.13.0"
  }
 },
 "nbformat": 4,
 "nbformat_minor": 2
}
