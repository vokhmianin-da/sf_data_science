{
 "cells": [
  {
   "cell_type": "markdown",
   "metadata": {},
   "source": [
    "## Запись в CSV-файл"
   ]
  },
  {
   "cell_type": "markdown",
   "metadata": {},
   "source": [
    "Экспорт данных в формат csv осуществляется с помощью метода DataFrame to_csv().\n",
    "\n",
    "Основные параметры метода to_csv():  \n",
    "path_or_buf - путь до файла, куда будет записан DataFrame  \n",
    "sep - разделитель данных в выходном файле (по умолчанию ',')  \n",
    "decimal - разделитель чисел на целую и дробную части в выходном файле (по умолчанию '.')  \n",
    "columns - список столбцов, которые будут записаны в файл (по умолчанию - все)  \n",
    "index - определяет, будет ли создан дополнительный столдбец с индексами строк в файле (по умолчанию - True)  "
   ]
  },
  {
   "cell_type": "markdown",
   "metadata": {},
   "source": [
    "## Чтение CSV-файла"
   ]
  },
  {
   "cell_type": "markdown",
   "metadata": {},
   "source": [
    "Для чтения таблицы из csv-файла используется функция read_csv(). Функция возвращает DataFrame.\n",
    "\n",
    "Основные параметры метода read_csv():  \n",
    "filepath_or_buffer - путь до файла, который мы читаем  \n",
    "sep - разделитель данных (по умолчанию ',')  \n",
    "decimal - разделитель чисел на целую и дробную части в файле (по умолчанию '.')  \n",
    "names - список с названиями столбцов для чтения  \n",
    "skiprows - количество строк в файле, которые нужно пропустить (например, файл может содержать служебную информацию, которая не нужна)"
   ]
  },
  {
   "cell_type": "code",
   "execution_count": 5,
   "metadata": {},
   "outputs": [],
   "source": [
    "import pandas as pd"
   ]
  },
  {
   "cell_type": "code",
   "execution_count": 6,
   "metadata": {},
   "outputs": [],
   "source": [
    "countries_df = pd.DataFrame({\n",
    "    'country' : ['Англия', 'Канада', 'США', 'Россия', 'Украина', 'Беларусь'],\n",
    "    'population': [56.29, 38.05, 322.28, 146.24, 45.5, 9.5],\n",
    "    'area' : [133396, 9984670, 9826630, 17125191, 603628, 207600]\n",
    "})\n",
    "countries_df.to_csv('data/countries.csv', index=False, sep=';')"
   ]
  },
  {
   "cell_type": "code",
   "execution_count": 7,
   "metadata": {},
   "outputs": [
    {
     "data": {
      "text/html": [
       "<div>\n",
       "<style scoped>\n",
       "    .dataframe tbody tr th:only-of-type {\n",
       "        vertical-align: middle;\n",
       "    }\n",
       "\n",
       "    .dataframe tbody tr th {\n",
       "        vertical-align: top;\n",
       "    }\n",
       "\n",
       "    .dataframe thead th {\n",
       "        text-align: right;\n",
       "    }\n",
       "</style>\n",
       "<table border=\"1\" class=\"dataframe\">\n",
       "  <thead>\n",
       "    <tr style=\"text-align: right;\">\n",
       "      <th></th>\n",
       "      <th>country</th>\n",
       "      <th>population</th>\n",
       "      <th>area</th>\n",
       "    </tr>\n",
       "  </thead>\n",
       "  <tbody>\n",
       "    <tr>\n",
       "      <th>0</th>\n",
       "      <td>Англия</td>\n",
       "      <td>56.29</td>\n",
       "      <td>133396</td>\n",
       "    </tr>\n",
       "    <tr>\n",
       "      <th>1</th>\n",
       "      <td>Канада</td>\n",
       "      <td>38.05</td>\n",
       "      <td>9984670</td>\n",
       "    </tr>\n",
       "    <tr>\n",
       "      <th>2</th>\n",
       "      <td>США</td>\n",
       "      <td>322.28</td>\n",
       "      <td>9826630</td>\n",
       "    </tr>\n",
       "    <tr>\n",
       "      <th>3</th>\n",
       "      <td>Россия</td>\n",
       "      <td>146.24</td>\n",
       "      <td>17125191</td>\n",
       "    </tr>\n",
       "    <tr>\n",
       "      <th>4</th>\n",
       "      <td>Украина</td>\n",
       "      <td>45.50</td>\n",
       "      <td>603628</td>\n",
       "    </tr>\n",
       "    <tr>\n",
       "      <th>5</th>\n",
       "      <td>Беларусь</td>\n",
       "      <td>9.50</td>\n",
       "      <td>207600</td>\n",
       "    </tr>\n",
       "  </tbody>\n",
       "</table>\n",
       "</div>"
      ],
      "text/plain": [
       "    country  population      area\n",
       "0    Англия       56.29    133396\n",
       "1    Канада       38.05   9984670\n",
       "2       США      322.28   9826630\n",
       "3    Россия      146.24  17125191\n",
       "4   Украина       45.50    603628\n",
       "5  Беларусь        9.50    207600"
      ]
     },
     "metadata": {},
     "output_type": "display_data"
    }
   ],
   "source": [
    "countries_data = pd.read_csv('data/countries.csv', sep=';')\n",
    "display(countries_data)"
   ]
  },
  {
   "cell_type": "markdown",
   "metadata": {},
   "source": [
    "## Чтение CSV-файла по ссылке\n",
    "\n",
    "Можно указать в read_csv() ссылку как путь к файлу"
   ]
  },
  {
   "cell_type": "code",
   "execution_count": 8,
   "metadata": {},
   "outputs": [],
   "source": [
    "data = pd.read_csv('https://raw.githubusercontent.com/esabunor/MLWorkspace/master/melb_data.csv')\n",
    "#display(data)"
   ]
  },
  {
   "cell_type": "markdown",
   "metadata": {},
   "source": [
    "## Запись и чтение в других форматах\n",
    "\n",
    "to_excel() - запись DataFrame в формат Excel-таблицы(.xlsx);  \n",
    "to_json() - запись DataFrame в формат JSON(.json);  \n",
    "to_xml() - запись DataFrame в формат XML-документа(.xml);  \n",
    "to_sql() - запись DataFrame в базу данных SQL (для реализации этого метода необходимо соединение с БД);  \n",
    "read_excel() - чтение из формата Excel-таблицы (.xlsx) в DataFrame;  \n",
    "read_json() - чтение из формата JSON (.json) в DataFrame;  \n",
    "read_xml() - чтение из формата XML-документа (.xml) в DataFrame;  \n",
    "read_sql() - чтение из формата БД SQL в DataFrame (для реализации этого метода необходимо соединение с БД);"
   ]
  }
 ],
 "metadata": {
  "kernelspec": {
   "display_name": "Python 3",
   "language": "python",
   "name": "python3"
  },
  "language_info": {
   "codemirror_mode": {
    "name": "ipython",
    "version": 3
   },
   "file_extension": ".py",
   "mimetype": "text/x-python",
   "name": "python",
   "nbconvert_exporter": "python",
   "pygments_lexer": "ipython3",
   "version": "3.13.0"
  }
 },
 "nbformat": 4,
 "nbformat_minor": 2
}
