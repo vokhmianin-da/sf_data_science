{
 "cells": [
  {
   "cell_type": "code",
   "execution_count": 1,
   "metadata": {},
   "outputs": [],
   "source": [
    "import pandas as pd\n",
    "\n",
    "melb_data = pd.read_csv('data/melb_data_ps.csv', sep=',')\n",
    "melb_df = melb_data.copy()"
   ]
  },
  {
   "cell_type": "markdown",
   "metadata": {},
   "source": [
    "✍ Библиотека Pandas предоставляет большое количество возможностей для преобразований данных, однако иногда  \n",
    "необходимо совершать более сложные манипуляции над столбцами. Например, из столбцов, содержащих в себе некоторый текст,  \n",
    "необходимо специальным образом извлечь определённые слова, даты или числа.\n",
    "\n",
    "→ Для таких случаев Pandas не имеет специальных методов, однако позволяет расширить свою функциональность за счёт  \n",
    "использования пользовательских функций. \n",
    "\n",
    "Мы можем написать некоторую функцию, которая принимает на вход один элемент столбца, каким-то образом его обрабатывает  \n",
    "и возвращает результат, после чего применить эту функцию к каждому элементу в столбце с помощью специального метода apply().  \n",
    "В результате применения этой функции будет возвращён объект Series, элементы которого будут представлять результат работы этой функции.\n",
    "\n",
    "Рассмотрим пример. В наших данных есть столбец с адресами объектов недвижимости. Проблема этого столбца в том, что в нём  \n",
    "слишком большое количество уникальных значений: почти на каждый объект недвижимости в таблице приходится свой уникальный адрес.  \n",
    "Убедимся в этом, вычислив количество уникальных значений в столбце с помощью метода nunique():"
   ]
  },
  {
   "cell_type": "code",
   "execution_count": 2,
   "metadata": {},
   "outputs": [
    {
     "name": "stdout",
     "output_type": "stream",
     "text": [
      "13378\n"
     ]
    }
   ],
   "source": [
    "print(melb_df['Address'].nunique())"
   ]
  },
  {
   "cell_type": "markdown",
   "metadata": {},
   "source": [
    "Если мы прогнозируем цену объекта, то такое большое количество возможных категорий может плохо сказаться на модели,  \n",
    "которую мы бы хотели в дальнейшем построить на наших данных. Говорят, что такой признак, скорее всего, не имеет  \n",
    "статистической значимости, потому что не позволяет разделить данные на группы, которые можно сравнить по целевому признаку.\n",
    "\n",
    "Из-за таких признаков зависимость между целевым признаком, который мы хотим предсказать, и признаками, на основе  \n",
    "которых мы делаем предсказание, становится очень сложной. При этом точность моделирования при учёте такого признака  \n",
    "может не повыситься, а даже снизиться, а производительность однозначно резко упадёт.\n",
    "\n",
    "Обычно подобные признаки удаляют, однако можно поступить умнее: давайте извлечём из признака адреса характеристику  \n",
    "подтипа улицы (улица, шоссе, авеню, бульвар). Для этого сначала внимательнее посмотрим на структуру адреса,  \n",
    "выберем несколько строк столбца Address:"
   ]
  },
  {
   "cell_type": "code",
   "execution_count": 3,
   "metadata": {},
   "outputs": [
    {
     "name": "stdout",
     "output_type": "stream",
     "text": [
      "2/119 Railway St N\n",
      "9/400 Dandenong Rd\n",
      "172 Danks St\n"
     ]
    }
   ],
   "source": [
    "print(melb_df['Address'].loc[177])\n",
    "print(melb_df['Address'].loc[1812])\n",
    "print(melb_df['Address'].loc[9001])"
   ]
  },
  {
   "cell_type": "markdown",
   "metadata": {},
   "source": [
    "Итак, адрес строится следующим образом: сначала указывается номер дома и корпус, после указывается название улицы,  \n",
    "а в конце — подтип улицы, но в некоторых случаях к подтипу добавляется географическая отметка (N — север, S — юг и т. д.),  \n",
    "она нам не нужна . Для того чтобы выделить подтип улицы, на которой находится объект, можно использовать следующую функцию:"
   ]
  },
  {
   "cell_type": "code",
   "execution_count": 4,
   "metadata": {},
   "outputs": [],
   "source": [
    "# На вход данной функции поступает строка с адресом.\n",
    "def get_street_type(address):\n",
    "# Создаём список географических пометок exclude_list.\n",
    "    exclude_list = ['N', 'S', 'W', 'E']\n",
    "# Метод split() разбивает строку на слова по пробелу.\n",
    "# В результате получаем список слов в строке и заносим его в переменную address_list.\n",
    "    address_list = address.split(' ')\n",
    "# Обрезаем список, оставляя в нём только последний элемент,\n",
    "# потенциальный подтип улицы, и заносим в переменную street_type.\n",
    "    street_type = address_list[-1]\n",
    "# Делаем проверку на то, что полученный подтип является географической пометкой.\n",
    "# Для этого проверяем его на наличие в списке exclude_list.\n",
    "    if street_type in exclude_list:\n",
    "# Если переменная street_type является географической пометкой,\n",
    "# переопределяем её на второй элемент с конца списка address_list.\n",
    "        street_type = address_list[-2]\n",
    "# Возвращаем переменную street_type, в которой хранится подтип улицы.\n",
    "    return street_type"
   ]
  },
  {
   "cell_type": "markdown",
   "metadata": {},
   "source": [
    "Теперь применим эту функцию к столбцу c адресом. Для этого передадим функцию get_street_type в аргумент  \n",
    "метода столбца apply(). В результате получим объект Series, который положим в переменную street_types:"
   ]
  },
  {
   "cell_type": "code",
   "execution_count": 5,
   "metadata": {},
   "outputs": [
    {
     "data": {
      "text/plain": [
       "0        St\n",
       "1        St\n",
       "2        St\n",
       "3        La\n",
       "4        St\n",
       "         ..\n",
       "13575    Cr\n",
       "13576    Dr\n",
       "13577    St\n",
       "13578    St\n",
       "13579    St\n",
       "Name: Address, Length: 13580, dtype: object"
      ]
     },
     "metadata": {},
     "output_type": "display_data"
    }
   ],
   "source": [
    "street_types = melb_df['Address'].apply(get_street_type)\n",
    "display(street_types)"
   ]
  },
  {
   "cell_type": "markdown",
   "metadata": {},
   "source": [
    "Обратите внимание, что функция пишется для одного элемента столбца, а метод apply() применяется к каждому  \n",
    "его элементу. Используемая функция обязательно должна иметь возвращаемое значение.\n",
    "\n",
    "Итак, мы смогли выделить подтип улицы. Посмотрим, сколько уникальных значений у нас получилось:"
   ]
  },
  {
   "cell_type": "code",
   "execution_count": 6,
   "metadata": {},
   "outputs": [
    {
     "name": "stdout",
     "output_type": "stream",
     "text": [
      "56\n"
     ]
    }
   ],
   "source": [
    "print(street_types.nunique())"
   ]
  },
  {
   "cell_type": "markdown",
   "metadata": {},
   "source": [
    "У нас есть 56 уникальных значений. Однако наш результат можно улучшить. Давайте для начала посмотрим на частоту  \n",
    "каждого подтипа улицы с помощью метода value_counts:"
   ]
  },
  {
   "cell_type": "code",
   "execution_count": 7,
   "metadata": {},
   "outputs": [
    {
     "data": {
      "text/plain": [
       "Address\n",
       "St           8012\n",
       "Rd           2825\n",
       "Ct            612\n",
       "Dr            447\n",
       "Av            321\n",
       "Gr            311\n",
       "Pde           211\n",
       "Pl            169\n",
       "Cr            152\n",
       "Cl            100\n",
       "La             67\n",
       "Bvd            53\n",
       "Tce            47\n",
       "Wy             40\n",
       "Avenue         40\n",
       "Cct            25\n",
       "Hwy            24\n",
       "Parade         15\n",
       "Boulevard      13\n",
       "Sq             11\n",
       "Crescent        9\n",
       "Cir             7\n",
       "Strand          7\n",
       "Esplanade       6\n",
       "Grove           5\n",
       "Grn             4\n",
       "Fairway         4\n",
       "Mews            4\n",
       "Gdns            4\n",
       "Righi           3\n",
       "Crossway        3\n",
       "Esp             2\n",
       "Ridge           2\n",
       "Victoria        2\n",
       "Crofts          2\n",
       "Athol           1\n",
       "Highway         1\n",
       "Cove            1\n",
       "Grange          1\n",
       "Res             1\n",
       "Terrace         1\n",
       "Qy              1\n",
       "Glade           1\n",
       "Nook            1\n",
       "Eyrie           1\n",
       "Loop            1\n",
       "Dell            1\n",
       "East            1\n",
       "Summit          1\n",
       "Grand           1\n",
       "Gra             1\n",
       "Hts             1\n",
       "Outlook         1\n",
       "Woodland        1\n",
       "Ave             1\n",
       "Corso           1\n",
       "Name: count, dtype: int64"
      ]
     },
     "metadata": {},
     "output_type": "display_data"
    }
   ],
   "source": [
    "display(street_types.value_counts())"
   ]
  },
  {
   "cell_type": "markdown",
   "metadata": {},
   "source": [
    "Из данного вывода можно увидеть, что есть группа наиболее популярных подтипов улиц, а дальше частота подтипов быстро падает.\n",
    "\n",
    "В таком случае давайте применим очень распространённый метод уменьшения количества уникальных категорий — выделим n подтипов,  \n",
    "которые встречаются чаще всего, а остальные обозначим как 'other' (другие).\n",
    "\n",
    "Для этого к результату метода value_counts применим метод nlargest(), который возвращает n наибольших значений из Series.  \n",
    "Зададим n=10, т. е. мы хотим отобрать десять наиболее популярных подтипов. Извлечём их названия с помощью атрибута index,  \n",
    "а результат занесём в переменную popular_stypes:"
   ]
  },
  {
   "cell_type": "code",
   "execution_count": 8,
   "metadata": {},
   "outputs": [
    {
     "name": "stdout",
     "output_type": "stream",
     "text": [
      "Index(['St', 'Rd', 'Ct', 'Dr', 'Av', 'Gr', 'Pde', 'Pl', 'Cr', 'Cl'], dtype='object', name='Address')\n"
     ]
    }
   ],
   "source": [
    "popular_stypes =street_types.value_counts().nlargest(10).index\n",
    "print(popular_stypes)"
   ]
  },
  {
   "cell_type": "markdown",
   "metadata": {},
   "source": [
    "Попробуйте применить использованные методы последовательно и выводить результат, чтобы проследить за  \n",
    "логикой преобразования.\n",
    "\n",
    "Теперь, когда у нас есть список наиболее популярных подтипов улиц, введём lambda-функцию, которая будет  \n",
    "проверять, есть ли строка x в этом перечне, и, если это так, lambda-функция будет возвращать x, в противном  \n",
    "случае она будет возвращать строку 'other'. Наконец, применим такую функцию к Series street_types, полученной ранее,  \n",
    "а результат определим в новый столбец таблицы StreetType:"
   ]
  },
  {
   "cell_type": "code",
   "execution_count": 9,
   "metadata": {},
   "outputs": [
    {
     "data": {
      "text/plain": [
       "0           St\n",
       "1           St\n",
       "2           St\n",
       "3        other\n",
       "4           St\n",
       "         ...  \n",
       "13575       Cr\n",
       "13576       Dr\n",
       "13577       St\n",
       "13578       St\n",
       "13579       St\n",
       "Name: StreetType, Length: 13580, dtype: object"
      ]
     },
     "metadata": {},
     "output_type": "display_data"
    }
   ],
   "source": [
    "melb_df['StreetType'] = street_types.apply(lambda x: x if x in popular_stypes else 'other')\n",
    "display(melb_df['StreetType'])"
   ]
  },
  {
   "cell_type": "markdown",
   "metadata": {},
   "source": [
    "Посмотрим на результирующее число уникальных подтипов:"
   ]
  },
  {
   "cell_type": "code",
   "execution_count": 10,
   "metadata": {},
   "outputs": [
    {
     "name": "stdout",
     "output_type": "stream",
     "text": [
      "11\n"
     ]
    }
   ],
   "source": [
    "print(melb_df['StreetType'].nunique())"
   ]
  },
  {
   "cell_type": "markdown",
   "metadata": {},
   "source": [
    "Теперь, у нас нет потребности хранить признак Address, так как, если конкретное местоположение объекта всё же и влияет  \n",
    "на его стоимость, то оно определяется столбцами Longitude и Lattitude. Удалим его из нашей таблицы:"
   ]
  },
  {
   "cell_type": "code",
   "execution_count": 11,
   "metadata": {},
   "outputs": [],
   "source": [
    "melb_df = melb_df.drop('Address', axis=1)"
   ]
  },
  {
   "cell_type": "markdown",
   "metadata": {},
   "source": [
    "Таким образом, с помощью написания собственных функций и их комбинирования с методом apply() из библиотеки  \n",
    "Pandas мы смогли извлечь информацию из признака с адресом и заменить на признак подтипа улицы. \n",
    "\n",
    "Примечание. Внимательный читатель наверняка обратит внимание на то, что мы допустили небольшую ошибку!\n",
    "\n",
    "Если присмотреться, то в списке подтипов улиц street_types можно заметить подтипы, которые именуются различным  \n",
    "образом, но при этом обозначают одинаковые вещи. Например, подтипы Av и Avenue, Bvd и Boulevard, Pde и Parade.  \n",
    "Мы упустили данный момент, хотя в реальных задачах стоит обращать пристальное внимание на результаты преобразований  \n",
    "и исправлять неточности в данных.\n",
    "\n",
    "Такие ошибки в данных (обозначение идентичных категорий различными именами) являются одним из видов «грязных» данных.\n",
    "\n",
    "Порой отследить такие неточности бывает очень сложно, а при наличии большого количества категорий  \n",
    "(например, более ста) — практически невозможно.\n",
    "\n",
    "Мы предлагаем вам самостоятельно разобраться с этой ошибкой: попробуйте написать функцию-преобразование  \n",
    "(lambda-функцию-преобразование), которая возвращала бы вместо значений Avenue, Boulevard и Parade их  \n",
    "топографические сокращения, и примените её к данным о подтипах улиц.\n",
    "\n",
    "→ Обратите внимание, что данное преобразование необходимо применить до сокращения количества  \n",
    "уникальных категорий."
   ]
  },
  {
   "cell_type": "markdown",
   "metadata": {},
   "source": [
    "Резюмируя, поделимся общими рекомендациями по уменьшению числа уникальных значений в признаке,  \n",
    "который описывается категориями:\n",
    "\n",
    "1. Определите (хотя бы на глаз) соотношение числа уникальных категорий интересующего вас признака к  \n",
    "общему числу объектов в таблице. Если это соотношение превышает значение 30 %, то это уже повод задуматься  \n",
    "над уменьшением числа категорий и перейти к шагу 2.\n",
    "\n",
    "2. Если ваш признак уникален для каждого объекта, например адрес, имя или название, то такой признак, скорее  \n",
    "всего, не имеет статистической значимости. От таких признаков чаще всего избавляются. Однако можно попробовать  \n",
    "выделить из этого признака какие-то общие черты, например, как мы это сделали с подтипами улиц. Такой же трюк можно  \n",
    "произвести, например, с названиями компаний, в которых может быть скрыт признак типа организации (из строки  \n",
    "«ООО Три Слепые Мыши» можно извлечь ООО — общество с ограниченной ответственностью).\n",
    "\n",
    "Далее переходите к шагу 3.\n",
    "\n",
    "3. Если даже после преобразования число уникальных категорий всё ещё велико, можно попробовать с  \n",
    "помощью метода value_counts() оценить, есть ли в данных категории, которые употребляются гораздо реже,  \n",
    "чем остальные. Если такие категории присутствуют, переходите к шагу 4.\n",
    "\n",
    "4. Можно подобрать число  популярных категорий таким образом, чтобы эти категории покрывали большую часть ваших данных.\n",
    "\n",
    "Когда вы выбрали оптимальное число, переходите к шагу 5.\n",
    "\n",
    "5. Наконец, можно совершить преобразование, обозначив категории, не попавшие в число популярных, как «другие»."
   ]
  },
  {
   "cell_type": "markdown",
   "metadata": {},
   "source": [
    "→ Такая методика является очень популярной и хорошо показывает себя на практике. Однако не нужно ей злоупотреблять:  \n",
    "применяя эту методику ко всем столбцам подряд, вы рискуете потерять немалую долю полезной информации из ваших данных.  \n",
    "Внимательно изучите интересующий вас признак, прежде чем преобразовывать его."
   ]
  },
  {
   "cell_type": "code",
   "execution_count": 17,
   "metadata": {},
   "outputs": [
    {
     "data": {
      "text/plain": [
       "np.float64(1081199.0)"
      ]
     },
     "metadata": {},
     "output_type": "display_data"
    }
   ],
   "source": [
    "import pandas as pd\n",
    "\n",
    "melb_data = pd.read_csv('data/melb_data_ps.csv', sep=',')\n",
    "melb_df = melb_data.copy()\n",
    "melb_df['Date'] = pd.to_datetime(melb_df['Date'], dayfirst=True)\n",
    "\n",
    "# Написать функцию get_weekend(weekday), которая принимает элемент WeekdaySale и возвращает 1, если день выходной и 0 для остальных\n",
    "# Применить эту функцию к столбцу и вычислить среднюю цену объекта, проданного в выходные дни\n",
    "melb_df['WeekdaySale'] = melb_df['Date'].dt.dayofweek\n",
    "\n",
    "def get_weekend(weekday):\n",
    "    if weekday==5 or weekday==6:\n",
    "        return 1\n",
    "    return 0\n",
    "\n",
    "melb_df['Weekend'] = melb_df['WeekdaySale'].apply(get_weekend)\n",
    "melb_df.head()\n",
    "mask = melb_df['Weekend'] == 1\n",
    "display(round(melb_df[mask]['Price'].mean(), 0))\n"
   ]
  },
  {
   "cell_type": "markdown",
   "metadata": {},
   "source": [
    "Преобразуйте столбец SellerG с наименованиями риелторских компаний в melb_df следующим образом: оставьте в столбце только 49 самых  \n",
    "популярных компаний, а остальные обозначьте как 'other'.\n",
    "\n",
    "Найдите, во сколько раз минимальная цена объектов недвижимости, проданных компанией 'Nelson', больше минимальной цены объектов, проданных  \n",
    "компаниями, обозначенными как 'other'. Ответ округлите до десятых."
   ]
  },
  {
   "cell_type": "code",
   "execution_count": 30,
   "metadata": {},
   "outputs": [
    {
     "name": "stdout",
     "output_type": "stream",
     "text": [
      "Index(['Nelson', 'Jellis', 'other', 'hockingstuart', 'Barry', 'Ray',\n",
      "       'Marshall', 'Buxton', 'Biggin', 'Brad', 'Fletchers', 'Woodards', 'Jas',\n",
      "       'Greg', 'McGrath', 'Sweeney', 'Noel', 'Miles', 'RT', 'Gary',\n",
      "       'Harcourts', 'Hodges', 'YPA', 'Stockdale', 'Village', 'Kay', 'Raine',\n",
      "       'Williams', 'Love', 'Douglas', 'Chisholm', 'RW', 'Rendina', 'HAR',\n",
      "       'O'Brien', 'C21', 'Collins', 'Cayzer', 'Eview', 'Purplebricks',\n",
      "       'Philip', 'Buckingham', 'Bells', 'Thomson', 'Nick', 'Alexkarbon',\n",
      "       'McDonald', 'Burnham', 'Moonee'],\n",
      "      dtype='object', name='SellerG')\n"
     ]
    },
    {
     "data": {
      "text/html": [
       "<div>\n",
       "<style scoped>\n",
       "    .dataframe tbody tr th:only-of-type {\n",
       "        vertical-align: middle;\n",
       "    }\n",
       "\n",
       "    .dataframe tbody tr th {\n",
       "        vertical-align: top;\n",
       "    }\n",
       "\n",
       "    .dataframe thead th {\n",
       "        text-align: right;\n",
       "    }\n",
       "</style>\n",
       "<table border=\"1\" class=\"dataframe\">\n",
       "  <thead>\n",
       "    <tr style=\"text-align: right;\">\n",
       "      <th></th>\n",
       "      <th>index</th>\n",
       "      <th>Suburb</th>\n",
       "      <th>Address</th>\n",
       "      <th>Rooms</th>\n",
       "      <th>Type</th>\n",
       "      <th>Price</th>\n",
       "      <th>Method</th>\n",
       "      <th>SellerG</th>\n",
       "      <th>Date</th>\n",
       "      <th>Distance</th>\n",
       "      <th>...</th>\n",
       "      <th>BuildingArea</th>\n",
       "      <th>YearBuilt</th>\n",
       "      <th>CouncilArea</th>\n",
       "      <th>Lattitude</th>\n",
       "      <th>Longtitude</th>\n",
       "      <th>Regionname</th>\n",
       "      <th>Propertycount</th>\n",
       "      <th>Coordinates</th>\n",
       "      <th>WeekdaySale</th>\n",
       "      <th>Weekend</th>\n",
       "    </tr>\n",
       "  </thead>\n",
       "  <tbody>\n",
       "    <tr>\n",
       "      <th>17</th>\n",
       "      <td>17</td>\n",
       "      <td>Abbotsford</td>\n",
       "      <td>78 Yarra St</td>\n",
       "      <td>3</td>\n",
       "      <td>h</td>\n",
       "      <td>1176500.0</td>\n",
       "      <td>S</td>\n",
       "      <td>other</td>\n",
       "      <td>2016-07-16</td>\n",
       "      <td>2.5</td>\n",
       "      <td>...</td>\n",
       "      <td>105.0</td>\n",
       "      <td>1890</td>\n",
       "      <td>Yarra</td>\n",
       "      <td>-37.80210</td>\n",
       "      <td>144.99650</td>\n",
       "      <td>Northern Metropolitan</td>\n",
       "      <td>4019</td>\n",
       "      <td>-37.8021, 144.9965</td>\n",
       "      <td>5</td>\n",
       "      <td>1</td>\n",
       "    </tr>\n",
       "    <tr>\n",
       "      <th>21</th>\n",
       "      <td>21</td>\n",
       "      <td>Abbotsford</td>\n",
       "      <td>13/11 Nicholson St</td>\n",
       "      <td>3</td>\n",
       "      <td>t</td>\n",
       "      <td>900000.0</td>\n",
       "      <td>S</td>\n",
       "      <td>other</td>\n",
       "      <td>2017-03-18</td>\n",
       "      <td>2.5</td>\n",
       "      <td>...</td>\n",
       "      <td>126.0</td>\n",
       "      <td>2010</td>\n",
       "      <td>Yarra</td>\n",
       "      <td>-37.80930</td>\n",
       "      <td>144.99590</td>\n",
       "      <td>Northern Metropolitan</td>\n",
       "      <td>4019</td>\n",
       "      <td>-37.8093, 144.9959</td>\n",
       "      <td>5</td>\n",
       "      <td>1</td>\n",
       "    </tr>\n",
       "    <tr>\n",
       "      <th>43</th>\n",
       "      <td>43</td>\n",
       "      <td>Airport West</td>\n",
       "      <td>1/37 Hillside Gr</td>\n",
       "      <td>3</td>\n",
       "      <td>h</td>\n",
       "      <td>600000.0</td>\n",
       "      <td>S</td>\n",
       "      <td>other</td>\n",
       "      <td>2017-03-04</td>\n",
       "      <td>13.5</td>\n",
       "      <td>...</td>\n",
       "      <td>116.0</td>\n",
       "      <td>1980</td>\n",
       "      <td>Moonee Valley</td>\n",
       "      <td>-37.72730</td>\n",
       "      <td>144.87440</td>\n",
       "      <td>Western Metropolitan</td>\n",
       "      <td>3464</td>\n",
       "      <td>-37.7273, 144.8744</td>\n",
       "      <td>5</td>\n",
       "      <td>1</td>\n",
       "    </tr>\n",
       "    <tr>\n",
       "      <th>46</th>\n",
       "      <td>46</td>\n",
       "      <td>Airport West</td>\n",
       "      <td>36 Roberts Rd</td>\n",
       "      <td>4</td>\n",
       "      <td>h</td>\n",
       "      <td>785000.0</td>\n",
       "      <td>S</td>\n",
       "      <td>other</td>\n",
       "      <td>2016-08-06</td>\n",
       "      <td>13.5</td>\n",
       "      <td>...</td>\n",
       "      <td>127.0</td>\n",
       "      <td>1970</td>\n",
       "      <td>Moonee Valley</td>\n",
       "      <td>-37.72590</td>\n",
       "      <td>144.87920</td>\n",
       "      <td>Western Metropolitan</td>\n",
       "      <td>3464</td>\n",
       "      <td>-37.7259, 144.8792</td>\n",
       "      <td>5</td>\n",
       "      <td>1</td>\n",
       "    </tr>\n",
       "    <tr>\n",
       "      <th>55</th>\n",
       "      <td>55</td>\n",
       "      <td>Airport West</td>\n",
       "      <td>241 Parer Rd</td>\n",
       "      <td>5</td>\n",
       "      <td>h</td>\n",
       "      <td>755000.0</td>\n",
       "      <td>PI</td>\n",
       "      <td>other</td>\n",
       "      <td>2016-05-14</td>\n",
       "      <td>13.5</td>\n",
       "      <td>...</td>\n",
       "      <td>126.0</td>\n",
       "      <td>1970</td>\n",
       "      <td>Moonee Valley</td>\n",
       "      <td>-37.72480</td>\n",
       "      <td>144.86990</td>\n",
       "      <td>Western Metropolitan</td>\n",
       "      <td>3464</td>\n",
       "      <td>-37.7248, 144.8699</td>\n",
       "      <td>5</td>\n",
       "      <td>1</td>\n",
       "    </tr>\n",
       "    <tr>\n",
       "      <th>...</th>\n",
       "      <td>...</td>\n",
       "      <td>...</td>\n",
       "      <td>...</td>\n",
       "      <td>...</td>\n",
       "      <td>...</td>\n",
       "      <td>...</td>\n",
       "      <td>...</td>\n",
       "      <td>...</td>\n",
       "      <td>...</td>\n",
       "      <td>...</td>\n",
       "      <td>...</td>\n",
       "      <td>...</td>\n",
       "      <td>...</td>\n",
       "      <td>...</td>\n",
       "      <td>...</td>\n",
       "      <td>...</td>\n",
       "      <td>...</td>\n",
       "      <td>...</td>\n",
       "      <td>...</td>\n",
       "      <td>...</td>\n",
       "      <td>...</td>\n",
       "    </tr>\n",
       "    <tr>\n",
       "      <th>13546</th>\n",
       "      <td>13546</td>\n",
       "      <td>Sunbury</td>\n",
       "      <td>7 Fullbrook Dr</td>\n",
       "      <td>3</td>\n",
       "      <td>h</td>\n",
       "      <td>480000.0</td>\n",
       "      <td>PI</td>\n",
       "      <td>other</td>\n",
       "      <td>2017-08-26</td>\n",
       "      <td>31.7</td>\n",
       "      <td>...</td>\n",
       "      <td>126.0</td>\n",
       "      <td>1970</td>\n",
       "      <td>NaN</td>\n",
       "      <td>-37.56005</td>\n",
       "      <td>144.70892</td>\n",
       "      <td>Western Metropolitan</td>\n",
       "      <td>14092</td>\n",
       "      <td>-37.56005, 144.70892</td>\n",
       "      <td>5</td>\n",
       "      <td>1</td>\n",
       "    </tr>\n",
       "    <tr>\n",
       "      <th>13548</th>\n",
       "      <td>13548</td>\n",
       "      <td>Sunbury</td>\n",
       "      <td>64 Stewarts La</td>\n",
       "      <td>3</td>\n",
       "      <td>h</td>\n",
       "      <td>605000.0</td>\n",
       "      <td>S</td>\n",
       "      <td>other</td>\n",
       "      <td>2017-08-26</td>\n",
       "      <td>31.7</td>\n",
       "      <td>...</td>\n",
       "      <td>229.0</td>\n",
       "      <td>1996</td>\n",
       "      <td>NaN</td>\n",
       "      <td>-37.56533</td>\n",
       "      <td>144.71233</td>\n",
       "      <td>Western Metropolitan</td>\n",
       "      <td>14092</td>\n",
       "      <td>-37.56533, 144.71233</td>\n",
       "      <td>5</td>\n",
       "      <td>1</td>\n",
       "    </tr>\n",
       "    <tr>\n",
       "      <th>13556</th>\n",
       "      <td>13556</td>\n",
       "      <td>Tarneit</td>\n",
       "      <td>27 McMahon Cr</td>\n",
       "      <td>3</td>\n",
       "      <td>h</td>\n",
       "      <td>350000.0</td>\n",
       "      <td>VB</td>\n",
       "      <td>other</td>\n",
       "      <td>2017-08-26</td>\n",
       "      <td>18.4</td>\n",
       "      <td>...</td>\n",
       "      <td>103.0</td>\n",
       "      <td>2003</td>\n",
       "      <td>NaN</td>\n",
       "      <td>-37.86744</td>\n",
       "      <td>144.65609</td>\n",
       "      <td>Western Metropolitan</td>\n",
       "      <td>10160</td>\n",
       "      <td>-37.86744, 144.65609</td>\n",
       "      <td>5</td>\n",
       "      <td>1</td>\n",
       "    </tr>\n",
       "    <tr>\n",
       "      <th>13572</th>\n",
       "      <td>13572</td>\n",
       "      <td>Watsonia</td>\n",
       "      <td>76 Kenmare St</td>\n",
       "      <td>2</td>\n",
       "      <td>h</td>\n",
       "      <td>650000.0</td>\n",
       "      <td>PI</td>\n",
       "      <td>other</td>\n",
       "      <td>2017-08-26</td>\n",
       "      <td>14.5</td>\n",
       "      <td>...</td>\n",
       "      <td>79.0</td>\n",
       "      <td>2006</td>\n",
       "      <td>NaN</td>\n",
       "      <td>-37.70657</td>\n",
       "      <td>145.07878</td>\n",
       "      <td>Northern Metropolitan</td>\n",
       "      <td>2329</td>\n",
       "      <td>-37.70657, 145.07878</td>\n",
       "      <td>5</td>\n",
       "      <td>1</td>\n",
       "    </tr>\n",
       "    <tr>\n",
       "      <th>13574</th>\n",
       "      <td>13574</td>\n",
       "      <td>Westmeadows</td>\n",
       "      <td>9 Black St</td>\n",
       "      <td>3</td>\n",
       "      <td>h</td>\n",
       "      <td>582000.0</td>\n",
       "      <td>S</td>\n",
       "      <td>other</td>\n",
       "      <td>2017-08-26</td>\n",
       "      <td>16.5</td>\n",
       "      <td>...</td>\n",
       "      <td>126.0</td>\n",
       "      <td>1970</td>\n",
       "      <td>NaN</td>\n",
       "      <td>-37.67917</td>\n",
       "      <td>144.89390</td>\n",
       "      <td>Northern Metropolitan</td>\n",
       "      <td>2474</td>\n",
       "      <td>-37.67917, 144.8939</td>\n",
       "      <td>5</td>\n",
       "      <td>1</td>\n",
       "    </tr>\n",
       "  </tbody>\n",
       "</table>\n",
       "<p>1234 rows × 25 columns</p>\n",
       "</div>"
      ],
      "text/plain": [
       "       index        Suburb             Address  Rooms Type      Price Method  \\\n",
       "17        17    Abbotsford         78 Yarra St      3    h  1176500.0      S   \n",
       "21        21    Abbotsford  13/11 Nicholson St      3    t   900000.0      S   \n",
       "43        43  Airport West    1/37 Hillside Gr      3    h   600000.0      S   \n",
       "46        46  Airport West       36 Roberts Rd      4    h   785000.0      S   \n",
       "55        55  Airport West        241 Parer Rd      5    h   755000.0     PI   \n",
       "...      ...           ...                 ...    ...  ...        ...    ...   \n",
       "13546  13546       Sunbury      7 Fullbrook Dr      3    h   480000.0     PI   \n",
       "13548  13548       Sunbury      64 Stewarts La      3    h   605000.0      S   \n",
       "13556  13556       Tarneit       27 McMahon Cr      3    h   350000.0     VB   \n",
       "13572  13572      Watsonia       76 Kenmare St      2    h   650000.0     PI   \n",
       "13574  13574   Westmeadows          9 Black St      3    h   582000.0      S   \n",
       "\n",
       "      SellerG       Date  Distance  ...  BuildingArea  YearBuilt  \\\n",
       "17      other 2016-07-16       2.5  ...         105.0       1890   \n",
       "21      other 2017-03-18       2.5  ...         126.0       2010   \n",
       "43      other 2017-03-04      13.5  ...         116.0       1980   \n",
       "46      other 2016-08-06      13.5  ...         127.0       1970   \n",
       "55      other 2016-05-14      13.5  ...         126.0       1970   \n",
       "...       ...        ...       ...  ...           ...        ...   \n",
       "13546   other 2017-08-26      31.7  ...         126.0       1970   \n",
       "13548   other 2017-08-26      31.7  ...         229.0       1996   \n",
       "13556   other 2017-08-26      18.4  ...         103.0       2003   \n",
       "13572   other 2017-08-26      14.5  ...          79.0       2006   \n",
       "13574   other 2017-08-26      16.5  ...         126.0       1970   \n",
       "\n",
       "         CouncilArea  Lattitude  Longtitude             Regionname  \\\n",
       "17             Yarra  -37.80210   144.99650  Northern Metropolitan   \n",
       "21             Yarra  -37.80930   144.99590  Northern Metropolitan   \n",
       "43     Moonee Valley  -37.72730   144.87440   Western Metropolitan   \n",
       "46     Moonee Valley  -37.72590   144.87920   Western Metropolitan   \n",
       "55     Moonee Valley  -37.72480   144.86990   Western Metropolitan   \n",
       "...              ...        ...         ...                    ...   \n",
       "13546            NaN  -37.56005   144.70892   Western Metropolitan   \n",
       "13548            NaN  -37.56533   144.71233   Western Metropolitan   \n",
       "13556            NaN  -37.86744   144.65609   Western Metropolitan   \n",
       "13572            NaN  -37.70657   145.07878  Northern Metropolitan   \n",
       "13574            NaN  -37.67917   144.89390  Northern Metropolitan   \n",
       "\n",
       "       Propertycount           Coordinates  WeekdaySale  Weekend  \n",
       "17              4019    -37.8021, 144.9965            5        1  \n",
       "21              4019    -37.8093, 144.9959            5        1  \n",
       "43              3464    -37.7273, 144.8744            5        1  \n",
       "46              3464    -37.7259, 144.8792            5        1  \n",
       "55              3464    -37.7248, 144.8699            5        1  \n",
       "...              ...                   ...          ...      ...  \n",
       "13546          14092  -37.56005, 144.70892            5        1  \n",
       "13548          14092  -37.56533, 144.71233            5        1  \n",
       "13556          10160  -37.86744, 144.65609            5        1  \n",
       "13572           2329  -37.70657, 145.07878            5        1  \n",
       "13574           2474   -37.67917, 144.8939            5        1  \n",
       "\n",
       "[1234 rows x 25 columns]"
      ]
     },
     "metadata": {},
     "output_type": "display_data"
    },
    {
     "data": {
      "text/plain": [
       "np.float64(1.3)"
      ]
     },
     "metadata": {},
     "output_type": "display_data"
    }
   ],
   "source": [
    "company = melb_df['SellerG']\n",
    "#display(company.value_counts())\n",
    "popular_stypes =company.value_counts().nlargest(49).index\n",
    "print(popular_stypes)\n",
    "melb_df['SellerG'] = melb_df['SellerG'].apply(lambda x: x if x in popular_stypes else 'other')\n",
    "display(melb_df[(melb_df['SellerG'] == 'other')])\n",
    "different = melb_df[(melb_df['SellerG'] == 'Nelson')]['Price'].min() / melb_df[(melb_df['SellerG'] == 'other')]['Price'].min()\n",
    "display(round(different, 1))"
   ]
  },
  {
   "cell_type": "code",
   "execution_count": 1,
   "metadata": {},
   "outputs": [],
   "source": [
    "# Напишите функцию get_experience(arg), аргументом которой является строка столбца с опытом работы.  \n",
    "# Функция должна возвращать опыт работы в месяцах. Не забудьте привести результат к целому числу.\n",
    "def get_experience(arg):\n",
    "    month_key_words = ['месяц', 'месяцев', 'месяца']\n",
    "    year_key_words = ['год', 'лет', 'года']\n",
    "    args_splited = arg.split(' ')\n",
    "    month = 0\n",
    "    year = 0\n",
    "    for i in range(len(args_splited)):\n",
    "        if args_splited[i] in month_key_words:\n",
    "            month = args_splited[i-1]\n",
    "        if args_splited[i] in year_key_words:\n",
    "            year = args_splited[i-1]\n",
    "    return int(year)*12 + int(month)"
   ]
  }
 ],
 "metadata": {
  "kernelspec": {
   "display_name": "Python 3",
   "language": "python",
   "name": "python3"
  },
  "language_info": {
   "codemirror_mode": {
    "name": "ipython",
    "version": 3
   },
   "file_extension": ".py",
   "mimetype": "text/x-python",
   "name": "python",
   "nbconvert_exporter": "python",
   "pygments_lexer": "ipython3",
   "version": "3.13.0"
  }
 },
 "nbformat": 4,
 "nbformat_minor": 2
}
