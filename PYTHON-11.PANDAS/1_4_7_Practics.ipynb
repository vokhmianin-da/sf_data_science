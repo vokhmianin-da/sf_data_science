{
 "cells": [
  {
   "cell_type": "code",
   "execution_count": 141,
   "metadata": {},
   "outputs": [],
   "source": [
    "import pandas as pd\n",
    "\n",
    "bike_data = pd.read_csv('data/citibike-tripdata.csv', sep=',')\n",
    "bike_df = bike_data.copy()"
   ]
  },
  {
   "cell_type": "markdown",
   "metadata": {},
   "source": [
    "На этот раз мы поговорим о спорте, а точнее — о велоспорте. \n",
    "\n",
    "Вашим заданием в этом модуле будет проанализировать и преобразовать данные о велопоездках клиентов  \n",
    "компании Citi Bike (США), специализирующейся на прокате велосипедов.\n",
    "\n",
    "Датасет представляет собой таблицу с информацией о 300 тысячах поездок за первые пять дней сентября  \n",
    "2018 года и включает в себя следующую информацию:\n",
    "\n",
    "* starttime — время начала поездки (дата, время);\n",
    "* stoptime — время окончания поездки (дата, время);\n",
    "* start station id — идентификатор стартовой стоянки;\n",
    "* start station name — название стартовой стоянки;\n",
    "* start station latitude, start station longitude — географическая широта и долгота стартовой стоянки;\n",
    "* end station id — идентификатор конечной стоянки;\n",
    "* end station name — название конечной стоянки;\n",
    "* end station latitude, end station longitude — географическая широта и долгота конечной стоянки;\n",
    "* bikeid — идентификатор велосипеда;\n",
    "* usertype — тип пользователя (Customer — клиент с подпиской на 24 часа или на три дня, Subscriber — подписчик  \n",
    "с годовой арендой велосипеда);\n",
    "* birth year — год рождения клиента;\n",
    "* gender — пол клиента (0 — неизвестный, 1 — мужчина, 2 — женщина).\n",
    "\n"
   ]
  },
  {
   "cell_type": "code",
   "execution_count": 142,
   "metadata": {},
   "outputs": [
    {
     "name": "stdout",
     "output_type": "stream",
     "text": [
      "<class 'pandas.core.frame.DataFrame'>\n",
      "RangeIndex: 300000 entries, 0 to 299999\n",
      "Data columns (total 14 columns):\n",
      " #   Column                   Non-Null Count   Dtype  \n",
      "---  ------                   --------------   -----  \n",
      " 0   starttime                300000 non-null  object \n",
      " 1   stoptime                 300000 non-null  object \n",
      " 2   start station id         299831 non-null  float64\n",
      " 3   start station name       299831 non-null  object \n",
      " 4   start station latitude   300000 non-null  float64\n",
      " 5   start station longitude  300000 non-null  float64\n",
      " 6   end station id           299831 non-null  float64\n",
      " 7   end station name         299831 non-null  object \n",
      " 8   end station latitude     300000 non-null  float64\n",
      " 9   end station longitude    300000 non-null  float64\n",
      " 10  bikeid                   300000 non-null  int64  \n",
      " 11  usertype                 300000 non-null  object \n",
      " 12  birth year               300000 non-null  int64  \n",
      " 13  gender                   300000 non-null  int64  \n",
      "dtypes: float64(6), int64(3), object(5)\n",
      "memory usage: 32.0+ MB\n"
     ]
    }
   ],
   "source": [
    "bike_df.info()"
   ]
  },
  {
   "cell_type": "code",
   "execution_count": 143,
   "metadata": {},
   "outputs": [
    {
     "name": "stdout",
     "output_type": "stream",
     "text": [
      "start station id\n",
      "281.0     1928\n",
      "2006.0    1909\n",
      "519.0     1873\n",
      "514.0     1845\n",
      "426.0     1835\n",
      "          ... \n",
      "3432.0      15\n",
      "3599.0      11\n",
      "2005.0       9\n",
      "3704.0       7\n",
      "3583.0       6\n",
      "Name: count, Length: 759, dtype: int64\n",
      "281.0\n"
     ]
    }
   ],
   "source": [
    "# Идентификатор самой популярной стартовой стоянки\n",
    "print(bike_df['start station id'].value_counts())\n",
    "# ИЛИ\n",
    "print(bike_df['start station id'].mode()[0])"
   ]
  },
  {
   "cell_type": "code",
   "execution_count": 144,
   "metadata": {},
   "outputs": [
    {
     "name": "stdout",
     "output_type": "stream",
     "text": [
      "bikeid\n",
      "33887    107\n",
      "34358    104\n",
      "34159    103\n",
      "34258    103\n",
      "34730    102\n",
      "        ... \n",
      "18083      1\n",
      "17567      1\n",
      "15122      1\n",
      "15681      1\n",
      "25794      1\n",
      "Name: count, Length: 10004, dtype: int64\n",
      "33887\n"
     ]
    }
   ],
   "source": [
    "# Велосипед с каким id является самым популярным?\n",
    "print(bike_df['bikeid'].value_counts())\n",
    "# ИЛИ\n",
    "print(bike_df['bikeid'].mode()[0])"
   ]
  },
  {
   "cell_type": "code",
   "execution_count": 145,
   "metadata": {},
   "outputs": [
    {
     "name": "stdout",
     "output_type": "stream",
     "text": [
      "0.77\n"
     ]
    }
   ],
   "source": [
    "# Какой тип клиентов (usertype) является преобладающим - Subscriber или Customer?\n",
    "# В ответ записать долю клиентов этого типа от общего количества (округлить до сотых)\n",
    "bike_df['usertype'].value_counts(normalize=True)\n",
    "print(round(bike_df['usertype'].value_counts(normalize=True).iloc[0], 2))"
   ]
  },
  {
   "cell_type": "code",
   "execution_count": 146,
   "metadata": {},
   "outputs": [
    {
     "name": "stdout",
     "output_type": "stream",
     "text": [
      "183582\n"
     ]
    }
   ],
   "source": [
    "# Кто больше занимается велоспортом - мужчины или женщины? В ответ записать число поездок\n",
    "# той группы, у которой их больше\n",
    "bike_df['gender'].value_counts()\n",
    "print(bike_df['gender'].value_counts().iloc[0])"
   ]
  },
  {
   "cell_type": "code",
   "execution_count": 147,
   "metadata": {},
   "outputs": [
    {
     "name": "stdout",
     "output_type": "stream",
     "text": [
      "759\n",
      "765\n"
     ]
    },
    {
     "data": {
      "text/plain": [
       "end station name\n",
       "West St & Chambers St          1963\n",
       "12 Ave & W 40 St               1909\n",
       "Pershing Square North          1850\n",
       "Central Park S & 6 Ave         1828\n",
       "E 17 St & Broadway             1804\n",
       "                               ... \n",
       "Exchange Place                    3\n",
       "Union St                          1\n",
       "Warren St                         1\n",
       "Montrose Ave & Bushwick Ave       1\n",
       "Liberty Light Rail                1\n",
       "Name: count, Length: 765, dtype: int64"
      ]
     },
     "execution_count": 147,
     "metadata": {},
     "output_type": "execute_result"
    }
   ],
   "source": [
    "# Число уникальных стартовых и конечных стоянок\n",
    "print(bike_df['start station name'].nunique())\n",
    "print(bike_df['end station name'].nunique())\n",
    "# Минимальный возраст клиента\n",
    "bike_df['birth year'].max()\n",
    "# Самая непопулярная стартовая стоянка\n",
    "bike_df['start station name'].value_counts()\n",
    "# Наибольшее число поездок завершается на ...\n",
    "bike_df['end station name'].value_counts()"
   ]
  },
  {
   "cell_type": "code",
   "execution_count": 148,
   "metadata": {},
   "outputs": [
    {
     "data": {
      "text/plain": [
       "12"
      ]
     },
     "execution_count": 148,
     "metadata": {},
     "output_type": "execute_result"
    }
   ],
   "source": [
    "# Удалить столбцы с start и end id. Вывести количество столбцов\n",
    "bike_df = bike_df.drop(['start station id', 'end station id'], axis = 1)\n",
    "bike_df.shape[1]"
   ]
  },
  {
   "cell_type": "code",
   "execution_count": 149,
   "metadata": {},
   "outputs": [
    {
     "data": {
      "text/html": [
       "<div>\n",
       "<style scoped>\n",
       "    .dataframe tbody tr th:only-of-type {\n",
       "        vertical-align: middle;\n",
       "    }\n",
       "\n",
       "    .dataframe tbody tr th {\n",
       "        vertical-align: top;\n",
       "    }\n",
       "\n",
       "    .dataframe thead th {\n",
       "        text-align: right;\n",
       "    }\n",
       "</style>\n",
       "<table border=\"1\" class=\"dataframe\">\n",
       "  <thead>\n",
       "    <tr style=\"text-align: right;\">\n",
       "      <th></th>\n",
       "      <th>starttime</th>\n",
       "      <th>stoptime</th>\n",
       "      <th>start station name</th>\n",
       "      <th>start station latitude</th>\n",
       "      <th>start station longitude</th>\n",
       "      <th>end station name</th>\n",
       "      <th>end station latitude</th>\n",
       "      <th>end station longitude</th>\n",
       "      <th>bikeid</th>\n",
       "      <th>usertype</th>\n",
       "      <th>gender</th>\n",
       "      <th>age</th>\n",
       "    </tr>\n",
       "  </thead>\n",
       "  <tbody>\n",
       "    <tr>\n",
       "      <th>0</th>\n",
       "      <td>2018-09-01 00:00:05.2690</td>\n",
       "      <td>2018-09-01 00:27:20.6340</td>\n",
       "      <td>MacDougal St &amp; Washington Sq</td>\n",
       "      <td>40.732264</td>\n",
       "      <td>-73.998522</td>\n",
       "      <td>Clinton Ave &amp; Myrtle Ave</td>\n",
       "      <td>40.693261</td>\n",
       "      <td>-73.968896</td>\n",
       "      <td>25577</td>\n",
       "      <td>Subscriber</td>\n",
       "      <td>1</td>\n",
       "      <td>38</td>\n",
       "    </tr>\n",
       "    <tr>\n",
       "      <th>1</th>\n",
       "      <td>2018-09-01 00:00:11.2810</td>\n",
       "      <td>2018-09-01 00:02:23.4810</td>\n",
       "      <td>Cadman Plaza West &amp; Montague St</td>\n",
       "      <td>40.693830</td>\n",
       "      <td>-73.990539</td>\n",
       "      <td>Schermerhorn St &amp; Court St</td>\n",
       "      <td>40.691029</td>\n",
       "      <td>-73.991834</td>\n",
       "      <td>34377</td>\n",
       "      <td>Subscriber</td>\n",
       "      <td>0</td>\n",
       "      <td>49</td>\n",
       "    </tr>\n",
       "    <tr>\n",
       "      <th>2</th>\n",
       "      <td>2018-09-01 00:00:20.6490</td>\n",
       "      <td>2018-09-01 00:55:58.5470</td>\n",
       "      <td>1 Ave &amp; E 62 St</td>\n",
       "      <td>40.761227</td>\n",
       "      <td>-73.960940</td>\n",
       "      <td>Smith St &amp; 3 St</td>\n",
       "      <td>40.678724</td>\n",
       "      <td>-73.995991</td>\n",
       "      <td>30496</td>\n",
       "      <td>Subscriber</td>\n",
       "      <td>1</td>\n",
       "      <td>43</td>\n",
       "    </tr>\n",
       "    <tr>\n",
       "      <th>3</th>\n",
       "      <td>2018-09-01 00:00:21.7460</td>\n",
       "      <td>2018-09-01 00:07:38.5830</td>\n",
       "      <td>St James Pl &amp; Oliver St</td>\n",
       "      <td>40.713079</td>\n",
       "      <td>-73.998512</td>\n",
       "      <td>Park Pl &amp; Church St</td>\n",
       "      <td>40.713342</td>\n",
       "      <td>-74.009355</td>\n",
       "      <td>28866</td>\n",
       "      <td>Subscriber</td>\n",
       "      <td>2</td>\n",
       "      <td>34</td>\n",
       "    </tr>\n",
       "    <tr>\n",
       "      <th>4</th>\n",
       "      <td>2018-09-01 00:00:27.3150</td>\n",
       "      <td>2018-09-01 02:21:25.3080</td>\n",
       "      <td>W 13 St &amp; 6 Ave</td>\n",
       "      <td>40.736494</td>\n",
       "      <td>-73.997044</td>\n",
       "      <td>W 4 St &amp; 7 Ave S</td>\n",
       "      <td>40.734011</td>\n",
       "      <td>-74.002939</td>\n",
       "      <td>20943</td>\n",
       "      <td>Customer</td>\n",
       "      <td>1</td>\n",
       "      <td>24</td>\n",
       "    </tr>\n",
       "  </tbody>\n",
       "</table>\n",
       "</div>"
      ],
      "text/plain": [
       "                  starttime                  stoptime  \\\n",
       "0  2018-09-01 00:00:05.2690  2018-09-01 00:27:20.6340   \n",
       "1  2018-09-01 00:00:11.2810  2018-09-01 00:02:23.4810   \n",
       "2  2018-09-01 00:00:20.6490  2018-09-01 00:55:58.5470   \n",
       "3  2018-09-01 00:00:21.7460  2018-09-01 00:07:38.5830   \n",
       "4  2018-09-01 00:00:27.3150  2018-09-01 02:21:25.3080   \n",
       "\n",
       "                start station name  start station latitude  \\\n",
       "0     MacDougal St & Washington Sq               40.732264   \n",
       "1  Cadman Plaza West & Montague St               40.693830   \n",
       "2                  1 Ave & E 62 St               40.761227   \n",
       "3          St James Pl & Oliver St               40.713079   \n",
       "4                  W 13 St & 6 Ave               40.736494   \n",
       "\n",
       "   start station longitude            end station name  end station latitude  \\\n",
       "0               -73.998522    Clinton Ave & Myrtle Ave             40.693261   \n",
       "1               -73.990539  Schermerhorn St & Court St             40.691029   \n",
       "2               -73.960940             Smith St & 3 St             40.678724   \n",
       "3               -73.998512         Park Pl & Church St             40.713342   \n",
       "4               -73.997044            W 4 St & 7 Ave S             40.734011   \n",
       "\n",
       "   end station longitude  bikeid    usertype  gender  age  \n",
       "0             -73.968896   25577  Subscriber       1   38  \n",
       "1             -73.991834   34377  Subscriber       0   49  \n",
       "2             -73.995991   30496  Subscriber       1   43  \n",
       "3             -74.009355   28866  Subscriber       2   34  \n",
       "4             -74.002939   20943    Customer       1   24  "
      ]
     },
     "metadata": {},
     "output_type": "display_data"
    },
    {
     "data": {
      "text/plain": [
       "11837"
      ]
     },
     "metadata": {},
     "output_type": "display_data"
    }
   ],
   "source": [
    "# Заменить признак birth year на признак возраста age. Год отсчета - 2018.\n",
    "# Сколько поездок совершено клиентами старше 60 лет?\n",
    "bike_df['age'] = 2018 - bike_df['birth year']\n",
    "bike_df = bike_df.drop('birth year', axis = 1)\n",
    "display(bike_df.head())\n",
    "display(bike_df[bike_df['age'] > 60].shape[0])\n"
   ]
  },
  {
   "cell_type": "code",
   "execution_count": 150,
   "metadata": {},
   "outputs": [
    {
     "name": "stdout",
     "output_type": "stream",
     "text": [
      "0 days 00:07:16.837000\n"
     ]
    }
   ],
   "source": [
    "# Создать признак длительности поездки trip duration. Для этого вычислить интервал между началом и концом поездки.\n",
    "# Сколько целых минут длилась поездка под индексом 3 в таблице? \n",
    "bike_df['starttime'] = pd.to_datetime(bike_df['starttime'])\n",
    "bike_df['stoptime'] = pd.to_datetime(bike_df['stoptime'])\n",
    "bike_df['trip duration'] = bike_df['stoptime'] - bike_df['starttime']\n",
    "print(bike_df.loc[3, 'trip duration'])"
   ]
  },
  {
   "cell_type": "code",
   "execution_count": 151,
   "metadata": {},
   "outputs": [
    {
     "data": {
      "text/html": [
       "<div>\n",
       "<style scoped>\n",
       "    .dataframe tbody tr th:only-of-type {\n",
       "        vertical-align: middle;\n",
       "    }\n",
       "\n",
       "    .dataframe tbody tr th {\n",
       "        vertical-align: top;\n",
       "    }\n",
       "\n",
       "    .dataframe thead th {\n",
       "        text-align: right;\n",
       "    }\n",
       "</style>\n",
       "<table border=\"1\" class=\"dataframe\">\n",
       "  <thead>\n",
       "    <tr style=\"text-align: right;\">\n",
       "      <th></th>\n",
       "      <th>starttime</th>\n",
       "      <th>stoptime</th>\n",
       "      <th>start station name</th>\n",
       "      <th>start station latitude</th>\n",
       "      <th>start station longitude</th>\n",
       "      <th>end station name</th>\n",
       "      <th>end station latitude</th>\n",
       "      <th>end station longitude</th>\n",
       "      <th>bikeid</th>\n",
       "      <th>usertype</th>\n",
       "      <th>gender</th>\n",
       "      <th>age</th>\n",
       "      <th>trip duration</th>\n",
       "      <th>weekend</th>\n",
       "    </tr>\n",
       "  </thead>\n",
       "  <tbody>\n",
       "    <tr>\n",
       "      <th>0</th>\n",
       "      <td>2018-09-01 00:00:05.269</td>\n",
       "      <td>2018-09-01 00:27:20.634</td>\n",
       "      <td>MacDougal St &amp; Washington Sq</td>\n",
       "      <td>40.732264</td>\n",
       "      <td>-73.998522</td>\n",
       "      <td>Clinton Ave &amp; Myrtle Ave</td>\n",
       "      <td>40.693261</td>\n",
       "      <td>-73.968896</td>\n",
       "      <td>25577</td>\n",
       "      <td>Subscriber</td>\n",
       "      <td>1</td>\n",
       "      <td>38</td>\n",
       "      <td>0 days 00:27:15.365000</td>\n",
       "      <td>1</td>\n",
       "    </tr>\n",
       "    <tr>\n",
       "      <th>1</th>\n",
       "      <td>2018-09-01 00:00:11.281</td>\n",
       "      <td>2018-09-01 00:02:23.481</td>\n",
       "      <td>Cadman Plaza West &amp; Montague St</td>\n",
       "      <td>40.693830</td>\n",
       "      <td>-73.990539</td>\n",
       "      <td>Schermerhorn St &amp; Court St</td>\n",
       "      <td>40.691029</td>\n",
       "      <td>-73.991834</td>\n",
       "      <td>34377</td>\n",
       "      <td>Subscriber</td>\n",
       "      <td>0</td>\n",
       "      <td>49</td>\n",
       "      <td>0 days 00:02:12.200000</td>\n",
       "      <td>1</td>\n",
       "    </tr>\n",
       "    <tr>\n",
       "      <th>2</th>\n",
       "      <td>2018-09-01 00:00:20.649</td>\n",
       "      <td>2018-09-01 00:55:58.547</td>\n",
       "      <td>1 Ave &amp; E 62 St</td>\n",
       "      <td>40.761227</td>\n",
       "      <td>-73.960940</td>\n",
       "      <td>Smith St &amp; 3 St</td>\n",
       "      <td>40.678724</td>\n",
       "      <td>-73.995991</td>\n",
       "      <td>30496</td>\n",
       "      <td>Subscriber</td>\n",
       "      <td>1</td>\n",
       "      <td>43</td>\n",
       "      <td>0 days 00:55:37.898000</td>\n",
       "      <td>1</td>\n",
       "    </tr>\n",
       "  </tbody>\n",
       "</table>\n",
       "</div>"
      ],
      "text/plain": [
       "                starttime                stoptime  \\\n",
       "0 2018-09-01 00:00:05.269 2018-09-01 00:27:20.634   \n",
       "1 2018-09-01 00:00:11.281 2018-09-01 00:02:23.481   \n",
       "2 2018-09-01 00:00:20.649 2018-09-01 00:55:58.547   \n",
       "\n",
       "                start station name  start station latitude  \\\n",
       "0     MacDougal St & Washington Sq               40.732264   \n",
       "1  Cadman Plaza West & Montague St               40.693830   \n",
       "2                  1 Ave & E 62 St               40.761227   \n",
       "\n",
       "   start station longitude            end station name  end station latitude  \\\n",
       "0               -73.998522    Clinton Ave & Myrtle Ave             40.693261   \n",
       "1               -73.990539  Schermerhorn St & Court St             40.691029   \n",
       "2               -73.960940             Smith St & 3 St             40.678724   \n",
       "\n",
       "   end station longitude  bikeid    usertype  gender  age  \\\n",
       "0             -73.968896   25577  Subscriber       1   38   \n",
       "1             -73.991834   34377  Subscriber       0   49   \n",
       "2             -73.995991   30496  Subscriber       1   43   \n",
       "\n",
       "           trip duration  weekend  \n",
       "0 0 days 00:27:15.365000        1  \n",
       "1 0 days 00:02:12.200000        1  \n",
       "2 0 days 00:55:37.898000        1  "
      ]
     },
     "metadata": {},
     "output_type": "display_data"
    },
    {
     "data": {
      "text/plain": [
       "weekend\n",
       "0    184865\n",
       "1    115135\n",
       "Name: count, dtype: int64"
      ]
     },
     "metadata": {},
     "output_type": "display_data"
    }
   ],
   "source": [
    "# Создать признак-мигалку weekend, который равен 1, если поездка начиналась в выходной и 0 \n",
    "# в противном случае. Выясните, сколько поездок начиналось в выходные\n",
    "def is_weekend(data):\n",
    "    if data == 5 or data == 6:\n",
    "        return 1\n",
    "    return 0\n",
    "\n",
    "bike_df['weekend'] = bike_df['starttime'].dt.day_of_week.apply(is_weekend)\n",
    "display(bike_df.head(3))\n",
    "display(bike_df['weekend'].value_counts())"
   ]
  },
  {
   "cell_type": "markdown",
   "metadata": {},
   "source": [
    "Создайте признак времени суток поездки time_of_day. Время суток определяется из часа начала поездки. Условимся, что:\n",
    "* поездка совершается ночью (night), если ее час приходится на интервал от 0 (вкл) до 6 (вкл) часов;  \n",
    "* поездка совершается утром (morning), если ее час приходится на интервал от 6 (не вкл) до 12 (вкл) часов;  \n",
    "* поездка совершается днем (day), если ее час приходится на интервал от 12 (не вкл) до 18 (вкл) часов;  \n",
    "* поездка совершается вечером (evening), если ее час приходится на интервал от 18 (не вкл) до 23 (вкл) часов. "
   ]
  },
  {
   "cell_type": "code",
   "execution_count": 152,
   "metadata": {},
   "outputs": [
    {
     "data": {
      "text/plain": [
       "time_of_day\n",
       "day        143012\n",
       "morning     95530\n",
       "evening     46373\n",
       "night       15085\n",
       "Name: count, dtype: int64"
      ]
     },
     "metadata": {},
     "output_type": "display_data"
    },
    {
     "data": {
      "text/plain": [
       "9"
      ]
     },
     "metadata": {},
     "output_type": "display_data"
    }
   ],
   "source": [
    "# Во сколько раз число поездок днем больше, чем поездок ночью? Ответ округлить до целых.\n",
    "def time_of_day(hour):\n",
    "    if hour>=0 and hour<=6:\n",
    "        return 'night'\n",
    "    elif hour>6 and hour<=12:\n",
    "        return 'morning'\n",
    "    elif hour>12 and hour<=18:\n",
    "        return 'day'\n",
    "    elif hour>18 and hour<=23:\n",
    "        return 'evening'\n",
    "    \n",
    "bike_df['time_of_day'] = bike_df['starttime'].dt.hour.apply(time_of_day)\n",
    "display(bike_df['time_of_day'].value_counts())\n",
    "a = bike_df[bike_df['time_of_day'] == 'day'].shape[0] # число строк с bike_df['time_of_day'] == 'day'\n",
    "b = bike_df[bike_df['time_of_day'] == 'night'].shape[0] # число строк с bike_df['time_of_day'] == 'night'\n",
    "display(round(a / b))"
   ]
  }
 ],
 "metadata": {
  "kernelspec": {
   "display_name": "Python 3",
   "language": "python",
   "name": "python3"
  },
  "language_info": {
   "codemirror_mode": {
    "name": "ipython",
    "version": 3
   },
   "file_extension": ".py",
   "mimetype": "text/x-python",
   "name": "python",
   "nbconvert_exporter": "python",
   "pygments_lexer": "ipython3",
   "version": "3.13.0"
  }
 },
 "nbformat": 4,
 "nbformat_minor": 2
}
