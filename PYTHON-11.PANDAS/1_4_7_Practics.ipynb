{
 "cells": [
  {
   "cell_type": "code",
   "execution_count": 1,
   "metadata": {},
   "outputs": [],
   "source": [
    "import pandas as pd\n",
    "\n",
    "melb_data = pd.read_csv('data/melb_data_ps.csv', sep=',')\n",
    "melb_df = melb_data.copy()"
   ]
  },
  {
   "cell_type": "markdown",
   "metadata": {},
   "source": [
    "На этот раз мы поговорим о спорте, а точнее — о велоспорте. \n",
    "\n",
    "Вашим заданием в этом модуле будет проанализировать и преобразовать данные о велопоездках клиентов  \n",
    "компании Citi Bike (США), специализирующейся на прокате велосипедов.\n",
    "\n",
    "Датасет представляет собой таблицу с информацией о 300 тысячах поездок за первые пять дней сентября  \n",
    "2018 года и включает в себя следующую информацию:\n",
    "\n",
    "* starttime — время начала поездки (дата, время);\n",
    "* stoptime — время окончания поездки (дата, время);\n",
    "* start station id — идентификатор стартовой стоянки;\n",
    "* start station name — название стартовой стоянки;\n",
    "* start station latitude, start station longitude — географическая широта и долгота стартовой стоянки;\n",
    "* end station id — идентификатор конечной стоянки;\n",
    "* end station name — название конечной стоянки;\n",
    "* end station latitude, end station longitude — географическая широта и долгота конечной стоянки;\n",
    "* bikeid — идентификатор велосипеда;\n",
    "* usertype — тип пользователя (Customer — клиент с подпиской на 24 часа или на три дня, Subscriber — подписчик  \n",
    "с годовой арендой велосипеда);\n",
    "* birth year — год рождения клиента;\n",
    "* gender — пол клиента (0 — неизвестный, 1 — мужчина, 2 — женщина).\n",
    "\n"
   ]
  }
 ],
 "metadata": {
  "kernelspec": {
   "display_name": "Python 3",
   "language": "python",
   "name": "python3"
  },
  "language_info": {
   "codemirror_mode": {
    "name": "ipython",
    "version": 3
   },
   "file_extension": ".py",
   "mimetype": "text/x-python",
   "name": "python",
   "nbconvert_exporter": "python",
   "pygments_lexer": "ipython3",
   "version": "3.13.0"
  }
 },
 "nbformat": 4,
 "nbformat_minor": 2
}
