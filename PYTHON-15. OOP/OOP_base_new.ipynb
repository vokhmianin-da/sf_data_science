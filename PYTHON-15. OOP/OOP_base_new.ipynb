{
 "cells": [
  {
   "cell_type": "markdown",
   "id": "1f5227b3",
   "metadata": {},
   "source": [
    "<div style=\"text-align: right\"> Марина Архипцева </div>\n",
    "\n",
    "### Основы ООП\n",
    "**План**\n",
    "\n",
    "- Парадигмы программирования\n",
    "- Классы и объекты\n",
    "- Создание класса. Атрибуты\n",
    "- Магические методы\n",
    "- Импорт классов"
   ]
  },
  {
   "cell_type": "markdown",
   "id": "fed97519",
   "metadata": {},
   "source": [
    "### Парадигмы"
   ]
  },
  {
   "cell_type": "markdown",
   "id": "ac564810",
   "metadata": {},
   "source": [
    "Парадигма - это совокупность подходов, определяющих стиль написания программ."
   ]
  },
  {
   "cell_type": "markdown",
   "id": "1423e747",
   "metadata": {},
   "source": [
    "Основные парадигмы - императивная и декларативная."
   ]
  },
  {
   "cell_type": "markdown",
   "id": "fe5429dd",
   "metadata": {},
   "source": [
    "<img src=\"image_2.png\" style=\"width: 400px;\"/>"
   ]
  },
  {
   "cell_type": "markdown",
   "id": "9b68774a",
   "metadata": {},
   "source": [
    "**Объектно-ориентированное программирование (ООП)** — методология программирования, основанная на представлении программы в виде совокупности объектов, каждый из которых является экземпляром определенного класса, а классы образуют иерархию наследования."
   ]
  },
  {
   "cell_type": "markdown",
   "id": "42865882",
   "metadata": {},
   "source": [
    "### Классы и объекты"
   ]
  },
  {
   "cell_type": "markdown",
   "id": "71e717f2",
   "metadata": {},
   "source": [
    "Алгоритмы + структуры данных = программы (Никлаус Вирт)\n",
    "\n",
    "Класс — проект (прототип, шаблон) для создания объектов определённого типа, описывающий их структуру (набор полей и их начальное состояние) и определяющая алгоритмы (функции или методы) для работы с этими объектами. \n",
    "\n",
    "Объект — это конкретный экземпляр класса."
   ]
  },
  {
   "cell_type": "code",
   "execution_count": 1,
   "id": "91c49d10",
   "metadata": {},
   "outputs": [
    {
     "name": "stdout",
     "output_type": "stream",
     "text": [
      "<class 'int'>\n",
      "<class 'str'>\n"
     ]
    }
   ],
   "source": [
    "# в Python всё классы и объекты\n",
    "n = 10\n",
    "x = \"Python\"\n",
    "print(type(n))\n",
    "print(type(x))"
   ]
  },
  {
   "cell_type": "code",
   "execution_count": 2,
   "id": "8fcb7a27-c51f-4785-82fc-821026415f01",
   "metadata": {},
   "outputs": [
    {
     "data": {
      "text/plain": [
       "6"
      ]
     },
     "execution_count": 2,
     "metadata": {},
     "output_type": "execute_result"
    }
   ],
   "source": [
    "len(x)"
   ]
  },
  {
   "cell_type": "code",
   "execution_count": 3,
   "id": "eb7aae74-fe32-42eb-939b-7c44fccd6b03",
   "metadata": {},
   "outputs": [
    {
     "data": {
      "text/plain": [
       "'python'"
      ]
     },
     "execution_count": 3,
     "metadata": {},
     "output_type": "execute_result"
    }
   ],
   "source": [
    "x.lower()"
   ]
  },
  {
   "cell_type": "code",
   "execution_count": 4,
   "id": "b6280b76",
   "metadata": {},
   "outputs": [
    {
     "name": "stdout",
     "output_type": "stream",
     "text": [
      "<class 'function'>\n",
      "<class 'builtin_function_or_method'>\n"
     ]
    }
   ],
   "source": [
    "double = lambda x: x*2\n",
    "print(type(double))\n",
    "print(type(print))"
   ]
  },
  {
   "cell_type": "code",
   "execution_count": 5,
   "id": "a62282b1",
   "metadata": {},
   "outputs": [
    {
     "data": {
      "text/plain": [
       "['__add__',\n",
       " '__class__',\n",
       " '__contains__',\n",
       " '__delattr__',\n",
       " '__dir__',\n",
       " '__doc__',\n",
       " '__eq__',\n",
       " '__format__',\n",
       " '__ge__',\n",
       " '__getattribute__',\n",
       " '__getitem__',\n",
       " '__getnewargs__',\n",
       " '__getstate__',\n",
       " '__gt__',\n",
       " '__hash__',\n",
       " '__init__',\n",
       " '__init_subclass__',\n",
       " '__iter__',\n",
       " '__le__',\n",
       " '__len__',\n",
       " '__lt__',\n",
       " '__mod__',\n",
       " '__mul__',\n",
       " '__ne__',\n",
       " '__new__',\n",
       " '__reduce__',\n",
       " '__reduce_ex__',\n",
       " '__repr__',\n",
       " '__rmod__',\n",
       " '__rmul__',\n",
       " '__setattr__',\n",
       " '__sizeof__',\n",
       " '__str__',\n",
       " '__subclasshook__',\n",
       " 'capitalize',\n",
       " 'casefold',\n",
       " 'center',\n",
       " 'count',\n",
       " 'encode',\n",
       " 'endswith',\n",
       " 'expandtabs',\n",
       " 'find',\n",
       " 'format',\n",
       " 'format_map',\n",
       " 'index',\n",
       " 'isalnum',\n",
       " 'isalpha',\n",
       " 'isascii',\n",
       " 'isdecimal',\n",
       " 'isdigit',\n",
       " 'isidentifier',\n",
       " 'islower',\n",
       " 'isnumeric',\n",
       " 'isprintable',\n",
       " 'isspace',\n",
       " 'istitle',\n",
       " 'isupper',\n",
       " 'join',\n",
       " 'ljust',\n",
       " 'lower',\n",
       " 'lstrip',\n",
       " 'maketrans',\n",
       " 'partition',\n",
       " 'removeprefix',\n",
       " 'removesuffix',\n",
       " 'replace',\n",
       " 'rfind',\n",
       " 'rindex',\n",
       " 'rjust',\n",
       " 'rpartition',\n",
       " 'rsplit',\n",
       " 'rstrip',\n",
       " 'split',\n",
       " 'splitlines',\n",
       " 'startswith',\n",
       " 'strip',\n",
       " 'swapcase',\n",
       " 'title',\n",
       " 'translate',\n",
       " 'upper',\n",
       " 'zfill']"
      ]
     },
     "execution_count": 5,
     "metadata": {},
     "output_type": "execute_result"
    }
   ],
   "source": [
    "# dir - список всех методов, которые можно применить для объекта\n",
    "dir(x)"
   ]
  },
  {
   "cell_type": "markdown",
   "id": "edafe010",
   "metadata": {},
   "source": [
    "### Атрибуты класса"
   ]
  },
  {
   "cell_type": "markdown",
   "id": "4cadb50e",
   "metadata": {},
   "source": [
    "В Python атрибуты могут быть объявлены как для класса в целом, так и для каждого его экземпляра (объекта) индивидуально.\n",
    "\n",
    "Атрибуты класса - это переменные, которые принадлежат всем объектам данного класса. Они объявляются внутри класса, но вне методов, и обычно описывают общие характеристики всех объектов этого класса.\n",
    "\n",
    "Атрибуты объекта - это переменные, которые принадлежат только конкретному объекту данного класса. Они могут быть уникальными для каждого объекта.\n",
    "\n",
    "Методы - это функции, определенные внутри класса, которые могут работать с атрибутами объекта и выполнять определенные операции."
   ]
  },
  {
   "cell_type": "markdown",
   "id": "e048dbdf-e112-420b-87d9-4f315016cb8c",
   "metadata": {},
   "source": [
    "Параметр self указывает на конкретный экземпляр класса (объект).\n",
    "\n",
    "При помощи параметра self методы экземпляра класса могут иметь свободный доступ к атрибутам и другим методам того же объекта. То есть, таким образом в методах достигается возможность модификации состояния объекта (изменения свойств).\n",
    "\n",
    "Название self - это соглашение.\n",
    "\n",
    "Когда вы определяете метод внутри класса, первым параметром этого метода всегда должен быть self. Это соглашение в Python, которое позволяет указать, что метод работает с атрибутами и поведением именно того объекта, для которого он был вызван."
   ]
  },
  {
   "cell_type": "code",
   "execution_count": 6,
   "id": "524aa79a-cea5-45e6-bc03-59ef1e95dc55",
   "metadata": {},
   "outputs": [],
   "source": [
    "# Соглашение - имя класса начинается с большой буквы\n",
    "class BankAccount:\n",
    "    # Атрибуты - поля (свойства) и методы\n",
    "    \n",
    "    # Поля класса\n",
    "    bank_name = \"Global Bank\"\n",
    "    annual_interest_rate = 0.02  # Годовая процентная ставка (2%)\n",
    "\n",
    "    def __init__(self, owner_name, account_number, initial_balance=0.0, val='руб'):\n",
    "        \"\"\"\n",
    "        Инициализация нового банковского счета.\n",
    "        \n",
    "        :param owner_name: Имя владельца счета.\n",
    "        :param account_number: Номер счета.\n",
    "        :param initial_balance: Начальный баланс, по умолчанию 0.0.\n",
    "        :param val: Валюта счёта, по умолчанию руб\n",
    "        \"\"\"\n",
    "        # Поля объекта\n",
    "        self.owner_name = owner_name\n",
    "        self.account_number = account_number\n",
    "        self.balance = initial_balance\n",
    "        self.val = val\n",
    "\n",
    "    def deposit(self, amount):\n",
    "        \"\"\"\n",
    "        Метод для пополнения счета.\n",
    "        \n",
    "        :param amount: Сумма для пополнения.\n",
    "        \"\"\"\n",
    "        if amount > 0:\n",
    "            self.balance += amount # self.balance = self.balance + amount\n",
    "            print(f\"Счет пополнен на {amount} {self.val}. Новый баланс: {self.balance} {self.val}.\")\n",
    "        else:\n",
    "            print(\"Сумма пополнения должна быть положительной.\")\n",
    "\n",
    "    def withdraw(self, amount):\n",
    "        \"\"\"\n",
    "        Метод для снятия средств со счета.\n",
    "        \n",
    "        :param amount: Сумма для снятия.\n",
    "        \"\"\"\n",
    "        if 0 < amount <= self.balance:\n",
    "            self.balance -= amount # self.balance = self.balance - amount\n",
    "            print(f\"Снято {amount} {self.val}. Остаток на счете: {self.balance} {self.val}.\")\n",
    "        elif amount > self.balance:\n",
    "            print(\"Недостаточно средств на счете.\")\n",
    "        else:\n",
    "            print(\"Сумма снятия должна быть положительной.\")\n",
    "\n",
    "    def check_balance(self):\n",
    "        \"\"\"\n",
    "        Метод для проверки текущего баланса.\n",
    "        \n",
    "        :return: Текущий баланс счета.\n",
    "        \"\"\"\n",
    "        return f\"Текущий баланс: {self.balance} {self.val}.\"\n",
    "\n",
    "# создание экземпляра класса\n",
    "account = BankAccount(\"Иван Иванов\", \"123456789\", 1000.0)"
   ]
  },
  {
   "cell_type": "code",
   "execution_count": null,
   "id": "6594e089-72d7-411d-80fa-09e86baad70c",
   "metadata": {},
   "outputs": [],
   "source": [
    "account.check_balance()"
   ]
  },
  {
   "cell_type": "code",
   "execution_count": null,
   "id": "6c6cdcda-72a6-4322-92d8-b2aae83276bf",
   "metadata": {},
   "outputs": [],
   "source": [
    "account.deposit(500.0)\n",
    "print(account.check_balance())"
   ]
  },
  {
   "cell_type": "code",
   "execution_count": null,
   "id": "f39d26b0-26b9-47fb-85c9-05ab9ce06d58",
   "metadata": {},
   "outputs": [],
   "source": [
    "account.withdraw(200.0)\n",
    "print(account.check_balance())"
   ]
  },
  {
   "cell_type": "code",
   "execution_count": null,
   "id": "6f3f1f31",
   "metadata": {
    "scrolled": true
   },
   "outputs": [],
   "source": [
    "dir(account)"
   ]
  },
  {
   "cell_type": "code",
   "execution_count": null,
   "id": "bf2418bc-869e-4ba9-bf2a-59eee8d3d293",
   "metadata": {},
   "outputs": [],
   "source": [
    "# создание еще одного экземпляра класса\n",
    "account2 = BankAccount(\"Петр Сидоров\", \"488575950\")"
   ]
  },
  {
   "cell_type": "code",
   "execution_count": null,
   "id": "b8b1d926-3538-4e92-b476-edf821634920",
   "metadata": {},
   "outputs": [],
   "source": [
    "account2.check_balance()"
   ]
  },
  {
   "cell_type": "code",
   "execution_count": null,
   "id": "9c9b74d9-2051-4cad-bc3d-7c9dbb99f01a",
   "metadata": {},
   "outputs": [],
   "source": [
    "account.check_balance()"
   ]
  },
  {
   "cell_type": "code",
   "execution_count": null,
   "id": "a1a33647-b7c8-426f-9f15-c3978a3fa9f0",
   "metadata": {},
   "outputs": [],
   "source": [
    "print(type(account))"
   ]
  },
  {
   "cell_type": "code",
   "execution_count": null,
   "id": "4560287a-a40d-4a01-8aa2-05dc8d6ff4a8",
   "metadata": {},
   "outputs": [],
   "source": [
    "print(account)"
   ]
  },
  {
   "cell_type": "markdown",
   "id": "933e0133",
   "metadata": {},
   "source": [
    "Ещё пример"
   ]
  },
  {
   "cell_type": "code",
   "execution_count": null,
   "id": "a38c1baf-d6a0-4780-a5b7-11d6f1382bf9",
   "metadata": {},
   "outputs": [],
   "source": [
    "class Book:\n",
    "    def __init__(self, title, author, count):\n",
    "        self.title = title\n",
    "        self.author = author\n",
    "        self.count = count\n",
    "    \n",
    "    def __str__(self):\n",
    "        return f\"{self.title}, автор - {self.author}\"\n",
    "    \n",
    "    def check_availability(self):\n",
    "        return self.count > 0\n",
    "    \n",
    "    def get_book(self):\n",
    "        if self.check_availability():\n",
    "            self.count -= 1\n",
    "            print(f\"Выдана книга: {str(self)}\")\n",
    "        else:\n",
    "            print(f\"К сожалению нет доступных экземпляров книги {str(self)}\")\n",
    "        \n",
    "    def return_book(self):\n",
    "        self.count += 1\n",
    "\n",
    "book_1234 = Book('Изучаем Python', 'Марк Лутц', 10)\n",
    "print(book_1234)"
   ]
  },
  {
   "cell_type": "code",
   "execution_count": null,
   "id": "ae26e75f-0616-4405-98f0-e2a215c9bfe8",
   "metadata": {},
   "outputs": [],
   "source": [
    "print(book_1234.check_availability())\n",
    "book_1234.get_book()"
   ]
  },
  {
   "cell_type": "code",
   "execution_count": null,
   "id": "aaca8eb5-4fe8-4d72-bf99-f5e7224cc4a6",
   "metadata": {},
   "outputs": [],
   "source": [
    "for _ in range(10):\n",
    "    book_1234.get_book()"
   ]
  },
  {
   "cell_type": "code",
   "execution_count": null,
   "id": "8a1a5f7c-452c-4137-b17a-6a7bf6a5fa7e",
   "metadata": {},
   "outputs": [],
   "source": [
    "print(book_1234.check_availability())\n",
    "book_1234.return_book()\n",
    "print(book_1234.check_availability())"
   ]
  },
  {
   "cell_type": "markdown",
   "id": "3d233d40-8a0f-460f-ad57-f2e7a4585d5d",
   "metadata": {},
   "source": [
    "### Магические методы"
   ]
  },
  {
   "cell_type": "markdown",
   "id": "e38224f5",
   "metadata": {},
   "source": [
    "**Метод `__init__`**"
   ]
  },
  {
   "cell_type": "markdown",
   "id": "bac3ac05",
   "metadata": {},
   "source": [
    "Метод отвечает за инициализацию экземпляров класса после их создания."
   ]
  },
  {
   "cell_type": "code",
   "execution_count": null,
   "id": "dc955d7e",
   "metadata": {},
   "outputs": [],
   "source": [
    "# класс Паспорт\n",
    "\n",
    "class Passport:\n",
    "    def __init__(self, first_name, last_name, date_of_birth, numb_of_pasport):\n",
    "        # self.first_name = first_name\n",
    "        # self.last_name = last_name\n",
    "        self.fio = f'{first_name} {last_name}'\n",
    "        self.date_of_birth = date_of_birth\n",
    "        self.numb_of_pasport = numb_of_pasport\n",
    "        \n",
    "    def create_fio(self):\n",
    "       # fio = f'{self.first_name} {self.last_name}'\n",
    "        return self.fio\n",
    "        \n",
    "    def __str__(self):\n",
    "        return f\"\"\"ФИО: {self.create_fio()}\\nДата рождения: {self.date_of_birth}\\nНомер паспорта: {self.numb_of_pasport}\"\"\"\n",
    "\n",
    "    def __eq__(self, new_pass):\n",
    "        return self.fio == new_pass.fio and self.date_of_birth == new_pass.date_of_birth\n",
    "    \n",
    "# dunder\n",
    "# создаем объект через вызов конструктора\n",
    "new_passport = Passport('Иванов', 'Иван', '28.06.1977', '1108 398213')\n",
    "print(new_passport)"
   ]
  },
  {
   "cell_type": "markdown",
   "id": "15ad215e-b085-4bf8-a9af-d8b4befb946b",
   "metadata": {},
   "source": [
    "Другие методы:\n",
    "\n",
    "* \\_\\_str\\_\\_ - Преобразование в строку\n",
    "* \\_\\_len\\_\\_ - Длина объекта\n",
    "* Методы сравнения - \\_\\_eq\\_\\_, \\_\\_ne\\_\\_, \\_\\_lt\\_\\_, \\_\\_gt\\_\\_, \\_\\_le\\_\\_, \\_\\_ge\\_\\_"
   ]
  },
  {
   "cell_type": "code",
   "execution_count": null,
   "id": "0272fa01",
   "metadata": {},
   "outputs": [],
   "source": [
    "new_passport2 = Passport('Иванов', 'Иван', '23.11.1997', '4567 256789')"
   ]
  },
  {
   "cell_type": "code",
   "execution_count": null,
   "id": "6aea81af-92c1-4c7b-b5ea-42b439f6a97b",
   "metadata": {},
   "outputs": [],
   "source": [
    "new_passport == new_passport2"
   ]
  },
  {
   "cell_type": "code",
   "execution_count": null,
   "id": "d30b0d47-0d1d-4328-a8d2-cd75f2833647",
   "metadata": {},
   "outputs": [],
   "source": [
    "new_passport.__eq__(new_passport2)\n",
    "#  self <-----------> new_pass"
   ]
  },
  {
   "cell_type": "markdown",
   "id": "7d4875d0-70d9-4e79-ad34-27bdcbd868b7",
   "metadata": {},
   "source": [
    "new_passport.equal(new_passport2)\n",
    "\n",
    "new_passport > new_passport2 \n",
    "__gt__ \n",
    "\n",
    "__ge__ >=\n",
    "\n",
    "__lt__ <   __le__ <="
   ]
  },
  {
   "cell_type": "code",
   "execution_count": null,
   "id": "c1da34aa",
   "metadata": {},
   "outputs": [],
   "source": [
    "__add__\n",
    "new_passport + new_passport2 \n",
    "__sub__\n",
    "__mul__\n",
    "\n",
    "__len__"
   ]
  },
  {
   "cell_type": "code",
   "execution_count": null,
   "id": "4d36de09-adbd-4dfe-adf6-8c6eed0d2850",
   "metadata": {},
   "outputs": [],
   "source": [
    "new_passport + new_passport2 "
   ]
  },
  {
   "cell_type": "markdown",
   "id": "c54736f2",
   "metadata": {},
   "source": [
    "### Импорт классов"
   ]
  },
  {
   "cell_type": "markdown",
   "id": "fb1f013b",
   "metadata": {},
   "source": [
    "Классы можно определять в отдельных модулях и затем импортировать их в другие модули для использования."
   ]
  },
  {
   "cell_type": "code",
   "execution_count": null,
   "id": "801e2bd0",
   "metadata": {},
   "outputs": [],
   "source": [
    "from collections import Counter"
   ]
  },
  {
   "cell_type": "code",
   "execution_count": null,
   "id": "1ce33fc7",
   "metadata": {},
   "outputs": [],
   "source": [
    "letter_cnt = Counter('Можно вылететь за Марс, ювелирно свернув у нашей планеты')\n",
    "letter_cnt"
   ]
  },
  {
   "cell_type": "code",
   "execution_count": null,
   "id": "a53d9da5",
   "metadata": {},
   "outputs": [],
   "source": [
    "letter_cnt.most_common(3)"
   ]
  },
  {
   "cell_type": "code",
   "execution_count": null,
   "id": "fbf104a7",
   "metadata": {},
   "outputs": [],
   "source": [
    "print(letter_cnt)"
   ]
  },
  {
   "cell_type": "code",
   "execution_count": null,
   "id": "a8791da3",
   "metadata": {},
   "outputs": [],
   "source": [
    "len(letter_cnt) # __len__"
   ]
  },
  {
   "cell_type": "markdown",
   "id": "807d17b1",
   "metadata": {},
   "source": [
    "### Ресурсы\n",
    "\n",
    "- Про классы в документации Python: https://docs.python.org/3/tutorial/classes.html\n",
    "- Python Object-Oriented Programming (OOP) - урок по ООП в Python: https://realpython.com/python3-object-oriented-programming/"
   ]
  },
  {
   "cell_type": "markdown",
   "id": "9b49ad1e-a708-4b6d-8d16-c2b2c2024892",
   "metadata": {},
   "source": [
    "### Обратная связь\n",
    "\n",
    "Благодарю вас за участие! "
   ]
  },
  {
   "cell_type": "markdown",
   "id": "2fd21e4e-792c-41b2-9e5a-c575368eddce",
   "metadata": {},
   "source": [
    "https://docs.google.com/forms/d/e/1FAIpQLSddDUfq-StjgH13rWy4usdnuV3LpRaNKP8uCG8IdJQ3WH122Q/viewform?usp=sf_link"
   ]
  },
  {
   "cell_type": "code",
   "execution_count": null,
   "id": "1913b36a-7ec6-4783-bc9c-e81cec23e5bf",
   "metadata": {},
   "outputs": [],
   "source": []
  }
 ],
 "metadata": {
  "kernelspec": {
   "display_name": "Python 3 (ipykernel)",
   "language": "python",
   "name": "python3"
  },
  "language_info": {
   "codemirror_mode": {
    "name": "ipython",
    "version": 3
   },
   "file_extension": ".py",
   "mimetype": "text/x-python",
   "name": "python",
   "nbconvert_exporter": "python",
   "pygments_lexer": "ipython3",
   "version": "3.12.3"
  }
 },
 "nbformat": 4,
 "nbformat_minor": 5
}
