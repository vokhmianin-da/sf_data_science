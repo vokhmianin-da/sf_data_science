{
 "cells": [
  {
   "cell_type": "markdown",
   "metadata": {},
   "source": [
    "Идеология объектно-ориентированного программирования (ООП) разрабатывалась как попытка связать поведение определённой сущности (объекта) с тем, к какому классу она принадлежит. Причина задумки такого подхода в том, что нам проще воспринимать окружающий мир как объекты, которые поддаются определённой классификации (взять хотя бы разделение на живую и неживую природу).\n",
    "\n",
    "Однако не стоит думать, что применение какой-либо из концепций упростит написание (создание) кода. Оно скорее будет влиять на последующее обслуживание и возможность масштабирования. ООП — не исключение.\n",
    "\n",
    "Основу ООП составляют два понятия — классы и объекты.\n",
    "\n",
    "\n",
    "Источник\n",
    "\n",
    "Посмотрим на человека? У него есть некоторые свойства, которые определяют наш внешний облик как вида — две руки, две ноги, определённый набор костей, мышцы и так далее.\n",
    "\n",
    "Когда мы говорим о классе, мы имеем в виду то, какими свойствами и поведением будет обладать объект (например, ходить на двух ногах, говорить).\n",
    "\n",
    "А объект — это экземпляр с собственным состоянием этих свойств (то, что будет отличать одного человека от другого), любой предмет, существо, явление. Иными словами, это всё, что называется именем существительным, о чём можно сказать «это что-то» или «это кто-то».\n",
    "\n",
    "Так и в программировании: мы создаём классы, то есть описываем свойства, которыми будут обладать объекты, принадлежащие этому классу.\n",
    "\n",
    "✍️ В этом модуле мы узнаем, как использовать ООП в Python. Мы обсудим:\n",
    "\n",
    "* что такое объект и класс, как их определять и из каких элементов они состоят;\n",
    "* несколько практических примеров, где ООП помогает эффективнее решать задачу;\n",
    "* как организовать хранение классов во многих файлах."
   ]
  },
  {
   "cell_type": "markdown",
   "metadata": {},
   "source": [
    "# <center>2. Принципы ООП"
   ]
  },
  {
   "cell_type": "markdown",
   "metadata": {},
   "source": [
    "ООП, как и любой другой тип, характеризуется своими особенностями (принципами). Рассмотрим их подробнее.\n",
    "\n",
    "Не бойтесь сложных и непонятных вам слов! Помните: однажды они обязательно пригодятся вам в высокообразованных спорах с опытными программистами или же коллегами.\n",
    "\n",
    "1. Наследование\n",
    "\n",
    "Этот принцип базируется на том, что новый класс описывается на основе уже существующего (родительского), то есть не только перенимает все свойства родительского класса, но ещё и получает новые.\n",
    "\n",
    "Для примера снова посмотрим на класс животных. Млекопитающие и рептилии являются животными, но мы точно сможем сказать, чем млекопитающее отличается от рептилии. То есть помимо одинаковых свойств и поведения, они имеют свои специфические.\n",
    "\n",
    "Или пойдём ещё дальше: в животных выделим собаку и лошадь. Вроде бы тоже перенимают все свойства млекопитающих, животных, но каждый из них добавляет ещё свои новые свойства. Это и есть наследование.\n",
    "\n",
    "2. Абстракция\n",
    "\n",
    "Абстракция означает выделение главных, наиболее значимых характеристик предмета и, наоборот, отбрасывание второстепенных, незначительных. \n",
    "\n",
    "Например, в каждой компании в отделе кадров есть картотека по сотрудникам. Но если мы сравним картотеку IT-компании и базу артистов театра и кино, то поймем, что указаны там, скорее всего, разные свойства людей. Вряд ли для IT-компании важен будет типаж человека (цвет волос, глаз и так далее), а вот для компании, которая занимается съёмкой фильмов, возможно, это будет приоритетнее, чем, например, номер ИНН.\n",
    "\n",
    "3. Инкапсуляция\n",
    "\n",
    "Это свойство системы, позволяющее объединить данные и методы, работающие с ними, в классе и скрыть детали реализации от пользователя. Инкапсуляция также означает ограничение доступа к данным и возможностям их изменения.\n",
    "\n",
    "В основе лежит слово «капсула». В эту «капсулу» мы прячем какие-то важные для нас данные, которые не хотим, чтобы кто-то менял. Например, имя и фамилию. Изменить их может только сам человек, пройдя определенные процедуры. У любого другого человека нет возможности просто так взять и поменять чужое имя (ну если только не придумать прозвище).\n",
    "\n",
    "В программировании есть свойства, которые можно изменять, но есть и такие, которые пользователь не может изменить. Например, можно наложить ограничение на изменяемость уникального идентификатора у класса пользователя.\n",
    "\n",
    "Также инкапсуляция заключается и в возможности наложения ограничения на вводимые данные. Допустим, есть класс people, одним из свойств которого является age. Мы знаем, что возраст — положительное значение. Инкапсуляция в данном случае будет означать, что отрицательное значение возраста ввести не получится.\n",
    "\n",
    "4. Полиморфизм\n",
    "\n",
    "Это свойство системы, позволяющее иметь множество реализаций одного интерфейса. \n",
    "\n",
    "Понятнее будет на примере. У нас есть два разных автомобиля, но мы точно знаем: чтобы повернуть налево, нужно повернуть налево и руль. Это и есть одинаковость интерфейса, а вот есть там гидроусилитель или нет — различие реализации.\n",
    "\n"
   ]
  },
  {
   "cell_type": "markdown",
   "metadata": {},
   "source": [
    "# <center>3. Объекты и классы"
   ]
  },
  {
   "cell_type": "markdown",
   "metadata": {},
   "source": [
    "## <center>Объекты</center>\n",
    "\n",
    "Некоторые данные и действия над ними могут объединяться вместе в единый объект. В Python всё по сути является объектом. Объект числа хранит своё значение — данные, мы можем вызвать его методы, совершать действия. "
   ]
  },
  {
   "cell_type": "code",
   "execution_count": 1,
   "metadata": {},
   "outputs": [
    {
     "name": "stdout",
     "output_type": "stream",
     "text": [
      "False\n",
      "(5, 2)\n"
     ]
    }
   ],
   "source": [
    "number = 2.5   \n",
    "# Вызовем метод is_integer. Он скажет нам, является ли number целым числом  \n",
    "print(number.is_integer())  \n",
    "# => False  \n",
    "  \n",
    "# Давайте попробуем представить number как обыкновенную дробь  \n",
    "print(number.as_integer_ratio())  \n",
    "# => (5, 2)  \n",
    "# Действительно 2.5 = 5/2 "
   ]
  },
  {
   "cell_type": "markdown",
   "metadata": {},
   "source": [
    "Посмотрим на список: он хранит данные своих элементов, мы можем совершать над ними действия встроенными методами."
   ]
  },
  {
   "cell_type": "code",
   "execution_count": 2,
   "metadata": {},
   "outputs": [
    {
     "name": "stdout",
     "output_type": "stream",
     "text": [
      "2\n",
      "['Alexandra', 'Stanislav', 'Vasiliy', 'Vasiliy']\n"
     ]
    }
   ],
   "source": [
    " people = [\"Vasiliy\", \"Stanislav\", \"Alexandra\", \"Vasiliy\"]  \n",
    "  \n",
    "# Посчитаем число Василиев с помощью метода count  \n",
    "print(people.count(\"Vasiliy\"))  \n",
    "# => 2  \n",
    "  \n",
    "# Теперь отсортируем   \n",
    "people.sort()  \n",
    "print(people)  \n",
    "# => ['Alexandra', 'Stanislav', 'Vasiliy', 'Vasiliy'] "
   ]
  },
  {
   "cell_type": "markdown",
   "metadata": {},
   "source": [
    "## <center>Классы</center>\n",
    "\n",
    "У всех встроенных объектов есть свой класс. В примере для числа 2.5 мы видим класс действительных чисел (float), для списка — класс списка (list). Класс — это некая заготовка или чертёж, которая описывает общую структуру, свойства и действия для объектов.  "
   ]
  },
  {
   "cell_type": "code",
   "execution_count": 3,
   "metadata": {},
   "outputs": [
    {
     "name": "stdout",
     "output_type": "stream",
     "text": [
      "<class 'float'>\n",
      "<class 'list'>\n"
     ]
    }
   ],
   "source": [
    "number = 2.5  \n",
    "print(number.__class__)  \n",
    "# => <class 'float'>  \n",
    "  \n",
    "people = [\"Vasiliy\", \"Stanislav\", \"Alexandra\", \"Vasiliy\"]  \n",
    "print(people.__class__)  \n",
    "# => <class 'list'> "
   ]
  },
  {
   "cell_type": "markdown",
   "metadata": {},
   "source": [
    "Определим пустой класс: он не делает ничего, но позволит нам посмотреть на синтаксис."
   ]
  },
  {
   "cell_type": "code",
   "execution_count": 4,
   "metadata": {},
   "outputs": [],
   "source": [
    "# Используем ключевое слово class, за которым идёт название класса, в примере это SalesReport  \n",
    "class SalesReport():  \n",
    "    pass  \n",
    "  \n",
    "# Сравните это с определением пустой функции  \n",
    "# Команда pass не делает ничего; на её месте могли быть другие инструкции  \n",
    "# Мы используем её только потому, что синтаксически python требует, чтобы там было хоть что-то  \n",
    "def build_report():  \n",
    "    pass  \n",
    "  \n",
    "  \n",
    "# И давайте определим ещё один класс  \n",
    "# Для имён классов традиционно используются имена в формате CamelCase, где начала слов отмечаются большими буквами  \n",
    "# Это позволяет легко отличать их от функций, которые пишутся в формате snake_case  \n",
    "class SkillfactoryStudent():  \n",
    "    pass"
   ]
  },
  {
   "cell_type": "markdown",
   "metadata": {},
   "source": [
    "## <center>Объекты из классов</center>\n",
    "\n",
    "Мы написали свой первый класс — давайте создадим по нему объект. Вызываем класс и получаем новый объект аналогично тому, как вызывается функция. Получаем результат."
   ]
  },
  {
   "cell_type": "code",
   "execution_count": 5,
   "metadata": {},
   "outputs": [
    {
     "name": "stdout",
     "output_type": "stream",
     "text": [
      "False\n"
     ]
    }
   ],
   "source": [
    "class SalesReport():  \n",
    "    pass  \n",
    "  \n",
    "# создаём объект по классу  \n",
    "report = SalesReport()  \n",
    "  \n",
    "# мы можем создавать множество объектов по одному классу  \n",
    "report_2 = SalesReport()  \n",
    "  \n",
    "# Это будут разные объекты.   \n",
    "print(report == report_2)  \n",
    "# => False  "
   ]
  },
  {
   "cell_type": "markdown",
   "metadata": {},
   "source": [
    "# <center>4. Атрибуты и методы"
   ]
  },
  {
   "cell_type": "markdown",
   "metadata": {},
   "source": [
    "## <center>Атрибуты и методы</center>\n",
    "\n",
    "Мы создали объект по пустому классу. Давайте добавим ему данные. Сделаем класс для отчётов по продажам SalesReport. Пусть у нас в компании есть менеджеры по продажам, которые заключают сделки, и мы хотим посчитать для них метрики общего объёма продаж."
   ]
  },
  {
   "cell_type": "code",
   "execution_count": 6,
   "metadata": {},
   "outputs": [
    {
     "name": "stdout",
     "output_type": "stream",
     "text": [
      "Total amount: 10\n",
      "Total amount: 20\n"
     ]
    }
   ],
   "source": [
    "# По-прежнему пока создаём пустой класс  \n",
    "class SalesReport():  \n",
    "    pass  \n",
    "  \n",
    "# Создаём первый отчёт по продажам   \n",
    "report = SalesReport()  \n",
    "  \n",
    "# Мы добавим новый атрибут объекту.  \n",
    "# Для этого через точку напишем имя атрибута и дальше как с обычной переменной  \n",
    "report.amount = 10  \n",
    "  \n",
    "# То же самое делаем для второго отчёта.  \n",
    "report_2 = SalesReport()  \n",
    "report_2.amount = 20  \n",
    "  \n",
    "# Создадим вспомогательную функцию, она будет печатать общую сумму из отчёта  \n",
    "def print_report(report):  \n",
    "    print(\"Total amount:\", report.amount)  \n",
    "      \n",
    "print_report(report) # => Total amount: 10  \n",
    "print_report(report_2) # => Total amount: 20 "
   ]
  },
  {
   "cell_type": "markdown",
   "metadata": {},
   "source": [
    "Для разных отчётов вывелись разные значения, хотя объекты создавались из одного класса. Функция print_report делает операцию над отчётом. Так как классы увязывают данные и действия над ними, положим print_report внутрь класса."
   ]
  },
  {
   "cell_type": "code",
   "execution_count": 7,
   "metadata": {},
   "outputs": [
    {
     "name": "stdout",
     "output_type": "stream",
     "text": [
      "Total amount: 10\n",
      "Total amount: 20\n"
     ]
    }
   ],
   "source": [
    "class SalesReport():  \n",
    "    # Наш новый метод внутри класса.  \n",
    "    # Мы определяем его похожим образом с обычными функциями,  \n",
    "    #   но только помещаем внутрь класса и первым аргументом передаём self  \n",
    "    def print_report(self):  \n",
    "        print(\"Total amount:\", self.amount)  \n",
    "          \n",
    "          \n",
    "# Дальше мы применяем report так же, как и в примере выше   \n",
    "report = SalesReport()  \n",
    "report.amount = 10  \n",
    "  \n",
    "report_2 = SalesReport()  \n",
    "report_2.amount = 20  \n",
    "  \n",
    "# Используем наши новые методы  \n",
    "report.print_report() # => Total amount: 10  \n",
    "report_2.print_report() # => Total amount: 20 "
   ]
  },
  {
   "cell_type": "markdown",
   "metadata": {},
   "source": [
    "Мы определили метод внутри класса, и он стал доступен у всех экземпляров этого класса. \n",
    "\n",
    "Методы в целом похожи на обычные функции, но их ключевое отличие — доступ к самому объекту. \n",
    "\n",
    "В методе мы первым аргументом получаем self — в нашем случае это отчёт, что позволяет использовать атрибуты объекта внутри метода, как мы сделали с amount. Self передаётся автоматически. При вызове метода мы не передавали никакие аргументы.\n",
    "\n",
    "Давайте для примера определим ещё пару методов:"
   ]
  },
  {
   "cell_type": "code",
   "execution_count": 8,
   "metadata": {},
   "outputs": [
    {
     "name": "stdout",
     "output_type": "stream",
     "text": [
      "Total sales: 40000\n"
     ]
    }
   ],
   "source": [
    " class SalesReport():  \n",
    "    # Позволим добавлять много разных сделок   \n",
    "    def add_deal(self, amount):   \n",
    "        # На первой сделке создадим список для хранения всех сделок   \n",
    "        if not hasattr(self, 'deals'):  \n",
    "            self.deals = []  \n",
    "        # Добавим текущую сделку  \n",
    "        self.deals.append(amount)  \n",
    "          \n",
    "    # Посчитаем сумму всех сделок      \n",
    "    def total_amount(self):  \n",
    "        return sum(self.deals)  \n",
    "      \n",
    "    def print_report(self):  \n",
    "        print(\"Total sales:\", self.total_amount())  \n",
    "          \n",
    "# Используем наши новые возможности  \n",
    "# Добавим две сделки и распечатаем отчёт  \n",
    "report = SalesReport()  \n",
    "report.add_deal(10_000)  \n",
    "report.add_deal(30_000)  \n",
    "report.print_report() # => Total sales: 40000  "
   ]
  },
  {
   "cell_type": "markdown",
   "metadata": {},
   "source": [
    "Атрибут deals, определённый в одном методе, становится доступен сразу во всех методах класса. Через self становятся доступны и остальные методы, например print_report использует метод total_amount. Это позволяет компактно упаковывать логику внутри класса: внешнее использование становится гораздо лаконичнее.\n",
    "\n",
    "## <center>Метод _INIT_</center>\n",
    "\n",
    "Мы определили несколько методов в классе SalesReport. С ним есть пара проблем. \n",
    "\n",
    "Если мы вызовем total_amount до add_deal, то список сделок ещё не будет создан, и мы получим ошибку. Также проверка на наличие списка в методе add_deal не кажется оптимальным решением, потому что создать список нужно один раз, а проверять его наличие мы вынуждены на каждой сделке."
   ]
  },
  {
   "cell_type": "code",
   "execution_count": 9,
   "metadata": {},
   "outputs": [
    {
     "ename": "AttributeError",
     "evalue": "'SalesReport' object has no attribute 'deals'",
     "output_type": "error",
     "traceback": [
      "\u001b[1;31m---------------------------------------------------------------------------\u001b[0m",
      "\u001b[1;31mAttributeError\u001b[0m                            Traceback (most recent call last)",
      "Cell \u001b[1;32mIn[9], line 14\u001b[0m\n\u001b[0;32m     11\u001b[0m         \u001b[38;5;28mprint\u001b[39m(\u001b[38;5;124m\"\u001b[39m\u001b[38;5;124mTotal sales:\u001b[39m\u001b[38;5;124m\"\u001b[39m, \u001b[38;5;28mself\u001b[39m\u001b[38;5;241m.\u001b[39mtotal_amount())  \n\u001b[0;32m     13\u001b[0m report \u001b[38;5;241m=\u001b[39m SalesReport()  \n\u001b[1;32m---> 14\u001b[0m \u001b[43mreport\u001b[49m\u001b[38;5;241;43m.\u001b[39;49m\u001b[43mtotal_amount\u001b[49m\u001b[43m(\u001b[49m\u001b[43m)\u001b[49m  \n\u001b[0;32m     15\u001b[0m \u001b[38;5;66;03m# => AttributeError\u001b[39;00m\n",
      "Cell \u001b[1;32mIn[9], line 8\u001b[0m, in \u001b[0;36mSalesReport.total_amount\u001b[1;34m(self)\u001b[0m\n\u001b[0;32m      7\u001b[0m \u001b[38;5;28;01mdef\u001b[39;00m \u001b[38;5;21mtotal_amount\u001b[39m(\u001b[38;5;28mself\u001b[39m):  \n\u001b[1;32m----> 8\u001b[0m     \u001b[38;5;28;01mreturn\u001b[39;00m \u001b[38;5;28msum\u001b[39m(\u001b[38;5;28;43mself\u001b[39;49m\u001b[38;5;241;43m.\u001b[39;49m\u001b[43mdeals\u001b[49m)\n",
      "\u001b[1;31mAttributeError\u001b[0m: 'SalesReport' object has no attribute 'deals'"
     ]
    }
   ],
   "source": [
    "class SalesReport():  \n",
    "    def add_deal(self, amount):   \n",
    "        if not hasattr(self, 'deals'):  \n",
    "            self.deals = []  \n",
    "        self.deals.append(amount)  \n",
    "          \n",
    "    def total_amount(self):  \n",
    "        return sum(self.deals)  \n",
    "      \n",
    "    def print_report(self):  \n",
    "        print(\"Total sales:\", self.total_amount())  \n",
    "          \n",
    "report = SalesReport()  \n",
    "report.total_amount()  \n",
    "# => AttributeError"
   ]
  },
  {
   "cell_type": "markdown",
   "metadata": {},
   "source": [
    "Обе проблемы решились бы, если задавать атрибутам исходное значение. Для этого у классов есть метод инициализации __init__. Если мы определим метод с таким именем, код в нём вызовется при создании объекта."
   ]
  },
  {
   "cell_type": "code",
   "execution_count": 10,
   "metadata": {},
   "outputs": [
    {
     "name": "stdout",
     "output_type": "stream",
     "text": [
      "[]\n"
     ]
    },
    {
     "data": {
      "text/plain": [
       "0"
      ]
     },
     "execution_count": 10,
     "metadata": {},
     "output_type": "execute_result"
    }
   ],
   "source": [
    "class SalesReport():  \n",
    "    def __init__(self):  \n",
    "        self.deals = []  \n",
    "          \n",
    "    def add_deal(self, amount):   \n",
    "        self.deals.append(amount)  \n",
    "          \n",
    "    def total_amount(self):  \n",
    "        return sum(self.deals)  \n",
    "      \n",
    "    def print_report(self):  \n",
    "        print(\"Total sales:\", self.total_amount())  \n",
    "   \n",
    "report = SalesReport()  \n",
    "print(report.deals)  \n",
    "# => []  \n",
    "report.total_amount()  \n",
    "# => 0  "
   ]
  },
  {
   "cell_type": "markdown",
   "metadata": {},
   "source": [
    "При создании отчёта вызвался __init__, deals определился в нём пустым списком и проблемы ушли. \n",
    "\n",
    "__init__ — это технический метод, поэтому его имя начинается и заканчивается двумя подчёркиваниями. Он получает первым аргументом сам объект, в нём могут выполняться любые операции. Оставшиеся аргументы он получает из вызова при создании: если мы напишем report = SalesReport(\"Info\", 20), то вторым и третьим аргументом в __init__ передадутся \"Info\" и 20."
   ]
  },
  {
   "cell_type": "code",
   "execution_count": 11,
   "metadata": {},
   "outputs": [
    {
     "name": "stdout",
     "output_type": "stream",
     "text": [
      "Manager: Ivan Taranov\n",
      "Total sales: 40000\n"
     ]
    }
   ],
   "source": [
    "class SalesReport():  \n",
    "    # Будем принимать в __init__ ещё и имя менеджера  \n",
    "    def __init__(self, manager_name):  \n",
    "        self.deals = []  \n",
    "        self.manager_name = manager_name  \n",
    "          \n",
    "    def add_deal(self, amount):   \n",
    "        self.deals.append(amount)  \n",
    "          \n",
    "    def total_amount(self):  \n",
    "        return sum(self.deals)  \n",
    "      \n",
    "    def print_report(self):  \n",
    "        # И добавлять это имя в отчёт  \n",
    "        print(\"Manager:\", self.manager_name)  \n",
    "        print(\"Total sales:\", self.total_amount())  \n",
    "          \n",
    "   \n",
    "report = SalesReport(\"Ivan Taranov\")  \n",
    "report.add_deal(10_000)  \n",
    "report.add_deal(30_000)  \n",
    "report.print_report()  \n",
    "# =>   \n",
    "# Manager: Ivan Taranov  \n",
    "# Total sales: 40000"
   ]
  },
  {
   "cell_type": "markdown",
   "metadata": {},
   "source": [
    "Кроме __init__ у классов можно определить ряд технических методов, которые также называют магическими. Дело в том, что они не вызываются напрямую, но позволяют реализовать операции сложения object_1 + object_2 или сравнения object_1 > object_2. "
   ]
  },
  {
   "cell_type": "markdown",
   "metadata": {},
   "source": [
    "### <center>краткое резюме\n",
    "\n",
    "✔️ Мы рассмотрели базовый синтаксис классов и синтаксис создания объектов. Давайте вспомним некоторые важные моменты:\n",
    "\n",
    "атрибут объекта — это просто его переменная;\n",
    "метод объекта — это его функция;\n",
    "метод объекта автоматически получает первым аргументом сам объект под именем self;\n",
    "класс описывает объект через его атрибуты и методы;\n",
    "мы можем создавать множество экземпляров одного класса, и значения их атрибутов независимы друг от друга;\n",
    "если определить метод __init__, то он будет выполняться при создании объекта;\n",
    "всё это позволяет компактно увязывать данные и логику внутри объекта.\n",
    "Чтобы продемонстрировать, что мы имеем в виду под компактностью, давайте добавим ещё метрик в отчёт. \n",
    "\n",
    "Допустим, теперь мы хотим получать средний размер сделки и список клиентов, из которого исключены повторения (в случае, если компания заключала несколько сделок с одним и тем же клиентом)."
   ]
  },
  {
   "cell_type": "code",
   "execution_count": 12,
   "metadata": {},
   "outputs": [
    {
     "name": "stdout",
     "output_type": "stream",
     "text": [
      "Employee:  Ivan Semenov\n",
      "Total sales: 390000\n",
      "Average sales: 130000.0\n",
      "Companies: ['SkyEng', 'PepsiCo']\n"
     ]
    }
   ],
   "source": [
    "class SalesReport():  \n",
    "    def __init__(self, employee_name):  \n",
    "        self.deals = []  \n",
    "        self.employee_name = employee_name  \n",
    "      \n",
    "    def add_deal(self, company, amount):   \n",
    "        self.deals.append({'company': company, 'amount': amount})  \n",
    "          \n",
    "    def total_amount(self):  \n",
    "        return sum([deal['amount'] for deal in self.deals])  \n",
    "      \n",
    "    def average_deal(self):  \n",
    "        return self.total_amount()/len(self.deals)  \n",
    "      \n",
    "    def all_companies(self):  \n",
    "        return list(set([deal['company'] for deal in self.deals]))  \n",
    "      \n",
    "    def print_report(self):  \n",
    "        print(\"Employee: \", self.employee_name)  \n",
    "        print(\"Total sales:\", self.total_amount())  \n",
    "        print(\"Average sales:\", self.average_deal())  \n",
    "        print(\"Companies:\", self.all_companies())  \n",
    "      \n",
    "      \n",
    "report = SalesReport(\"Ivan Semenov\")  \n",
    "  \n",
    "report.add_deal(\"PepsiCo\", 120_000)  \n",
    "report.add_deal(\"SkyEng\", 250_000)  \n",
    "report.add_deal(\"PepsiCo\", 20_000)  \n",
    "  \n",
    "report.print_report()  \n",
    "# => Employee:  Ivan Semenov  \n",
    "# Total sales: 390000  \n",
    "# Average sales: 130000.0  \n",
    "# Companies: ['PepsiCo', 'SkyEng'] "
   ]
  },
  {
   "cell_type": "markdown",
   "metadata": {},
   "source": [
    "Мы расширили отчёт, но внешний код использования классов не увеличился. Отчёт, который мы вывели, достаточно простой, но можно автоматически генерировать презентацию с данными и графиками в PDF, при этом внешний интерфейс не менялся бы. Мы просто передаём данные на вход и на выходе получаем отчёт."
   ]
  },
  {
   "cell_type": "markdown",
   "metadata": {},
   "source": [
    "# <center>5. Практические примеры</center>"
   ]
  },
  {
   "cell_type": "markdown",
   "metadata": {},
   "source": [
    "⭐️ Мы научились определять классы и создавать объекты. Основная их задача — объединять данные и действия над ними. Эти же задачи можно решать обычными функциями и коллекциями (словарями/списками).\n",
    "\n",
    "Разница в том, что для ряда задач ООП является более подходящим инструментом и позволяет решать их проще. Рассмотрим ещё несколько примеров — это поможет вам развить интуицию и понять, в каких ситуациях стоит рассматривать переход от простых функций к классам.\n",
    "\n",
    "## <center>Отслеживание состояния</center>\n",
    "\n",
    "Одно из классических предписаний для классов — у каждого из множества объектов есть некоторые меняющиеся состояния. \n",
    "\n",
    "Вернёмся к примеру: есть база клиентов с основной информацией; в реальном времени нам приходит информация о покупках. Запустим промокампанию, чтобы поощрить старых клиентов, которые сделали у нас много заказов, и выдать им скидку:"
   ]
  },
  {
   "cell_type": "code",
   "execution_count": 13,
   "metadata": {},
   "outputs": [
    {
     "name": "stdout",
     "output_type": "stream",
     "text": [
      "Order price for max@gmail.com is 100\n",
      "Order price for lova@yandex.ru is 180.0\n",
      "Order price for german@sberbank.ru is 500\n",
      "Order price for german@sberbank.ru is 450.0\n"
     ]
    }
   ],
   "source": [
    "class Client():  \n",
    "    # Базовые данные  \n",
    "    def __init__(self, email, order_num, registration_year):  \n",
    "        self.email = email  \n",
    "        self.order_num = order_num  \n",
    "        self.registration_year = registration_year  \n",
    "        self.discount = 0  \n",
    "          \n",
    "    # Оформление заказа  \n",
    "    def make_order(self, price):  \n",
    "        self.update_discount()  \n",
    "        self.order_num += 1  \n",
    "        # Здесь было бы оформление заказа, но мы просто выведем его цену  \n",
    "        discounted_price = price * (1 - self.discount)   \n",
    "        print(f\"Order price for {self.email} is {discounted_price}\")  \n",
    "              \n",
    "    # Назначение скидки  \n",
    "    def update_discount(self):   \n",
    "        if self.registration_year < 2018 and self.order_num >= 5:  \n",
    "            self.discount = 0.1   \n",
    "              \n",
    "  \n",
    "# Применение  \n",
    "          \n",
    "# Сделаем подобие базы  \n",
    "client_db = [   \n",
    "    Client(\"max@gmail.com\", 2, 2019),  \n",
    "    Client(\"lova@yandex.ru\", 10, 2015),  \n",
    "    Client(\"german@sberbank.ru\", 4, 2017)  \n",
    "]  \n",
    "  \n",
    "  \n",
    "# Сгенерируем заказы  \n",
    "client_db[0].make_order(100)  \n",
    "# => Order price for max@gmail.com is 100  \n",
    "  \n",
    "client_db[1].make_order(200)  \n",
    "# => Order price for lova@yandex.ru is 180.0  \n",
    "  \n",
    "client_db[2].make_order(500)  \n",
    "# => Order price for german@sberbank.ru is 500  \n",
    "  \n",
    "client_db[2].make_order(500)  \n",
    "# => Order price for german@sberbank.ru is 450.0 "
   ]
  },
  {
   "cell_type": "markdown",
   "metadata": {},
   "source": [
    "Два важных момента:\n",
    "\n",
    "* У нас получился простой интерфейс. С функциями нам пришлось бы передавать много параметров или делать вложенный словарь.\n",
    "* В классах хорошо реализуется скрытая логика и естественное сохранение состояний. В примере на втором и четвёртом заказах автоматически появилась скидка."
   ]
  },
  {
   "cell_type": "markdown",
   "metadata": {},
   "source": [
    "## <center>Комбинация операций</center>\n",
    "\n",
    "Классы могут пригодиться, если вы регулярно делаете над данными одну и ту же последовательность разноплановых функций. Вы можете упаковать их в класс и в дальнейшем сразу получать результат по загруженным данным.\n",
    "\n",
    "У нас есть численные данные из разных источников. Если они в виде строк, то нужно привести их к числам, а пропуски — заполнить значениями. Сделаем доступ к медиане, среднему значению и стандартному отклонению:"
   ]
  },
  {
   "cell_type": "code",
   "execution_count": 14,
   "metadata": {},
   "outputs": [
    {
     "name": "stdout",
     "output_type": "stream",
     "text": [
      "[1.0, 17.0, 4.0, 0.0, 8.0]\n",
      "6.892024376045111\n",
      "4.0\n"
     ]
    }
   ],
   "source": [
    " import statistics  \n",
    "  \n",
    "class DataFrame():  \n",
    "    def __init__(self, column, fill_value=0):  \n",
    "        # Инициализируем атрибуты  \n",
    "        self.column = column  \n",
    "        self.fill_value = fill_value  \n",
    "        # Заполним пропуски  \n",
    "        self.fill_missed()  \n",
    "        # Конвертируем все элементы в числа  \n",
    "        self.to_float()  \n",
    "          \n",
    "    def fill_missed(self):  \n",
    "        for i, value in enumerate(self.column):  \n",
    "            if value is None or value == '':  \n",
    "                self.column[i] = self.fill_value  \n",
    "                  \n",
    "    def to_float(self):  \n",
    "        self.column = [float(value) for value in self.column]  \n",
    "      \n",
    "    def median(self):  \n",
    "        return statistics.median(self.column)  \n",
    "      \n",
    "    def mean(self):  \n",
    "        return statistics.mean(self.column)  \n",
    "      \n",
    "    def deviation(self):  \n",
    "        return statistics.stdev(self.column)  \n",
    "      \n",
    "  \n",
    "      \n",
    "# Воспользуемся классом  \n",
    "df = DataFrame([\"1\", 17, 4, None, 8])  \n",
    "  \n",
    "print(df.column)  \n",
    "# => [1.0, 17.0, 4.0, 0.0, 8.0]  \n",
    "print(df.deviation())  \n",
    "# => 6.89  \n",
    "print(df.median())  \n",
    "# => 4.0  "
   ]
  },
  {
   "cell_type": "markdown",
   "metadata": {},
   "source": [
    "Мы получили очень лаконичный интерфейс для использования класса. В __init__ мы использовали значение по умолчанию для fill_value, а методы позволяют нам определять необязательные параметры."
   ]
  },
  {
   "cell_type": "markdown",
   "metadata": {},
   "source": [
    "## <center>Класс-обёртка</center> \n",
    "\n",
    "Классы можно использовать тогда, когда у вас есть процесс, который требует сложной конфигурации, повторяющейся из раза в раз. Можно написать класс-обёртку, который сведёт этот процесс к одному-двум методам.\n",
    "\n",
    "Представим, вы делаете обработку данных и в конце каждого дня сохраняете результат в архив. Вы хотите, чтобы данные каждого дня лежали в отдельном файле для этого дня, при этом можно было бы получить данные за произвольный день. \n",
    "\n",
    "Перед запуском кода создайте папку с названием archive там же, где находится ноутбук:"
   ]
  },
  {
   "cell_type": "code",
   "execution_count": 16,
   "metadata": {},
   "outputs": [
    {
     "name": "stdout",
     "output_type": "stream",
     "text": [
      "{'perfomance': [10, 20, 10], 'clients': {'Romashka': 10, 'Vector': 34}}\n"
     ]
    }
   ],
   "source": [
    "import pickle  \n",
    "from datetime import datetime  \n",
    "from os import path  \n",
    "  \n",
    "class Dumper():  \n",
    "    def __init__(self, archive_dir=\"archive/\"):  \n",
    "        self.archive_dir = archive_dir  \n",
    "          \n",
    "    def dump(self, data):  \n",
    "        # Библиотека pickle позволяет доставать и класть объекты в файл  \n",
    "        with open(self.get_file_name(), 'wb') as file:  \n",
    "            pickle.dump(data, file)  \n",
    "              \n",
    "    def load_for_day(self, day):  \n",
    "        file_name = path.join(self.archive_dir, day + \".pkl\")   \n",
    "        with open(file_name, 'rb') as file:  \n",
    "            sets = pickle.load(file)  \n",
    "        return sets  \n",
    "          \n",
    "    # возвращает корректное имя для файла   \n",
    "    def get_file_name(self):   \n",
    "        today = datetime.now().strftime(\"%y-%m-%d\")   \n",
    "        return path.join(self.archive_dir, today + \".pkl\")  \n",
    "      \n",
    "      \n",
    "# Пример использования  \n",
    "  \n",
    "data = {  \n",
    "    'perfomance': [10, 20, 10],  \n",
    "    'clients': {\"Romashka\": 10, \"Vector\": 34}  \n",
    "}  \n",
    "  \n",
    "  \n",
    "dumper = Dumper()  \n",
    "  \n",
    "# Сохраним данные  \n",
    "dumper.dump(data)  \n",
    "  \n",
    "# Восстановим для сегодняшней даты  \n",
    "file_name = datetime.now().strftime(\"%y-%m-%d\")\n",
    "restored_data = dumper.load_for_day(file_name)\n",
    "print(restored_data)  \n",
    "# => {'perfomance': [10, 20, 10], 'clients': {'Romashka': 10, 'Vector': 34}}  "
   ]
  },
  {
   "cell_type": "markdown",
   "metadata": {},
   "source": [
    "Сохранение и восстановление работает в пару строк. В результате мы можем приводить достаточно сложные операции к простому виду."
   ]
  },
  {
   "cell_type": "markdown",
   "metadata": {},
   "source": [
    "## <center>Импорт и организация кода</center>\n",
    "\n",
    "Классы, как и библиотечные функции, можно импортировать в другие программы. Для этого нужно положить класс в отдельный файл в корне проекта и использовать ключевое слово import. \n",
    "\n",
    "Например, если мы положим Dumper в файл dumper.py в корне проекта, то его можно импортировать командой:\n",
    "\n",
    " from dumper import Dumper  \n",
    "Пишем from <имя файла без .py> import <имя класса>. Имя файла должно начинаться с буквы и не совпадать с именами библиотечных модулей. Если файлов с классами много, их можно складывать в папки, предварительно положив туда пустой файл __init__.py — это требование Python.\n",
    "\n",
    "Сгруппируем классы из примеров в папке helpers. Структура файлов:\n",
    "\n",
    "helpers  \n",
    "-- __init__.py  \n",
    "-- dumper.py  \n",
    "-- data_frame.py  \n",
    "-- client.py\n",
    "\n",
    "Импортируем, соединяя все шаги через точку с помощью того же синтаксиса, что использовался для импорта библиотечных функций.\n",
    "\n",
    "from helpers.dumper import Dumper  \n",
    "from helpers.data_frame import DataFrame  \n",
    "from helpers.client import Client  "
   ]
  },
  {
   "cell_type": "markdown",
   "metadata": {},
   "source": [
    "# <center>7. Применение ООП для работы с файлами"
   ]
  },
  {
   "cell_type": "markdown",
   "metadata": {},
   "source": [
    "✍ В этом юните мы с вами поговорим об основных принципах работы с файлами в языке Python — какие встроенные методы используются для открытия, закрытия, чтения, построчного чтения и так далее.\n",
    "\n",
    "На самом деле файлы, как и всё в Python, являются объектами класса. Причём этот класс встроен в Python. У файлов есть свои атрибуты и методы.\n",
    "\n",
    "Давайте на примере работы с файлами разберём, как работают классы, реализованные «под капотом» в Python ↓\n",
    "\n",
    "## <center>Путь к файлу</center>\n",
    "\n",
    "Путь (от англ. path) — набор символов, показывающий расположение файла или каталога в файловой системе.\n",
    "\n",
    "В операционных системах UNIX разделительным знаком при записи пути является «/» (слеш), в Windows — «\\» (обратный слеш). Эти знаки служат для разделения названия каталогов, составляющих путь к файлу. Все вы видели, например, такой путь на ОС Windows: C:\\Program Files. Это и есть путь до папки Program Files.\n",
    "\n",
    "Существует два типа пути:\n",
    "\n",
    "* абсолютный;\n",
    "* относительный.\n",
    "Абсолютный путь всегда считается от «корня», той папки, откуда потом «вырастают» все остальные папки. Для Windows это диск С:, D: и т. д., для Unix это “/”. Абсолютный путь всегда уникальный.\n",
    "\n",
    "Абсолютный путь — это путь, который указывает на одно и то же место в файловой системе, вне зависимости от текущего рабочего каталога или других обстоятельств. Его ещё называют полным.\n",
    "\n",
    "Относительный путь — это путь по отношению к текущему рабочему каталогу пользователя.\n",
    "\n",
    "Чтобы поработать с путями, есть модуль os. Функция os.chdir() позволяет нам изменить директорию, которую мы в данный момент используем. Если вам нужно знать, какой путь вы в данный момент используете, для этого нужно вызвать os.getcwd().\n",
    "\n",
    "Примечание: Все дальнейшие пути указаны для конкретной машины на ОС Linux. У вас эти результаты будут отличаться."
   ]
  },
  {
   "cell_type": "code",
   "execution_count": 19,
   "metadata": {},
   "outputs": [
    {
     "name": "stdout",
     "output_type": "stream",
     "text": [
      "f:\\Projects\\sf_data_science\\PYTHON-15. OOP\n"
     ]
    }
   ],
   "source": [
    "# получить текущий путь\n",
    "import os\n",
    "start_path = os.getcwd()\n",
    "print(start_path) # /home/nbuser/library"
   ]
  },
  {
   "cell_type": "markdown",
   "metadata": {},
   "source": [
    "Далее попробуем подняться на директорию выше:"
   ]
  },
  {
   "cell_type": "code",
   "execution_count": 20,
   "metadata": {},
   "outputs": [
    {
     "data": {
      "text/plain": [
       "'f:\\\\Projects\\\\sf_data_science'"
      ]
     },
     "execution_count": 20,
     "metadata": {},
     "output_type": "execute_result"
    }
   ],
   "source": [
    "os.chdir(\"..\") # подняться на один уровень выше\n",
    "os.getcwd() # '/home/nbuser'"
   ]
  },
  {
   "cell_type": "markdown",
   "metadata": {},
   "source": [
    "Теперь вернемся в ту директорию, из которой стартовали. Изначально мы сохраняли её в переменной start_path."
   ]
  },
  {
   "cell_type": "code",
   "execution_count": 21,
   "metadata": {},
   "outputs": [
    {
     "data": {
      "text/plain": [
       "'f:\\\\Projects\\\\sf_data_science\\\\PYTHON-15. OOP'"
      ]
     },
     "execution_count": 21,
     "metadata": {},
     "output_type": "execute_result"
    }
   ],
   "source": [
    "os.chdir(start_path)\n",
    "os.getcwd() # '/home/nbuser/library'"
   ]
  },
  {
   "cell_type": "markdown",
   "metadata": {},
   "source": [
    "С помощью функции os.listdir() можно получить весь список файлов, находящихся в директории. Если не указать никаких аргументов, то будет взята текущая директория."
   ]
  },
  {
   "cell_type": "code",
   "execution_count": 22,
   "metadata": {},
   "outputs": [
    {
     "name": "stdout",
     "output_type": "stream",
     "text": [
      "['archive', 'Lesson.ipynb']\n",
      "Файл отсутствует в данной директории\n"
     ]
    }
   ],
   "source": [
    "# список файлов и директорий в папке\n",
    "import os\n",
    "\n",
    "print(os.listdir()) # ['SnapchatLoader', 'FBLoader', 'tmp.py', '.gitignore', 'venv', '.git']\n",
    "\n",
    "if 'tmp.py' not in os.listdir():\n",
    "    print(\"Файл отсутствует в данной директории\")"
   ]
  },
  {
   "cell_type": "markdown",
   "metadata": {},
   "source": [
    "Для того чтобы склеивать пути с учётом особенностей ОС, следует использовать функцию os.path.join(). Это связано с тем, что в разных операционных системах могут быть разные разделители каталогов, например в ОС Windows этим разделителем является «\\», а в Linux — «/», как мы и говорили в начале юнита. Поэтому, чтобы поиск файла проходил гладко в обеих системах (ведь ваш скрипт могут запускать на любой системе в связи с кросс-платформенностью Python), лучше всё-таки использовать os.path.join()."
   ]
  },
  {
   "cell_type": "code",
   "execution_count": 23,
   "metadata": {},
   "outputs": [
    {
     "name": "stdout",
     "output_type": "stream",
     "text": [
      "f:\\Projects\\sf_data_science\\PYTHON-15. OOP\n",
      "f:\\Projects\\sf_data_science\\PYTHON-15. OOP\\test\n"
     ]
    }
   ],
   "source": [
    "# соединяет пути с учётом особенностей операционной системы\n",
    "print(start_path)\n",
    "print(os.path.join(start_path, 'test'))\n",
    "\n",
    "# /home/nbuser/library\n",
    "# /home/nbuser/library/test"
   ]
  },
  {
   "cell_type": "markdown",
   "metadata": {},
   "source": [
    "Сделайте функцию, которая принимает от пользователя путь и выводит всю информацию о содержимом этой папки. Для реализации используйте функцию встроенного модуля os.walk(). Если путь не указан, то сравнение начинается с текущей директории."
   ]
  },
  {
   "cell_type": "code",
   "execution_count": 24,
   "metadata": {},
   "outputs": [
    {
     "name": "stdout",
     "output_type": "stream",
     "text": [
      "Текущая директория f:\\Projects\\sf_data_science\\PYTHON-15. OOP\n",
      "---\n",
      "Список папок ['archive']\n",
      "---\n",
      "Список файлов ['Lesson.ipynb']\n",
      "---\n",
      "Все пути:\n",
      "Файл  f:\\Projects\\sf_data_science\\PYTHON-15. OOP\\Lesson.ipynb\n",
      "Папка  f:\\Projects\\sf_data_science\\PYTHON-15. OOP\\archive\n",
      "===\n",
      "Текущая директория f:\\Projects\\sf_data_science\\PYTHON-15. OOP\\archive\n",
      "---\n",
      "Папок нет\n",
      "---\n",
      "Список файлов ['24-12-10.pkl']\n",
      "---\n",
      "Файл  f:\\Projects\\sf_data_science\\PYTHON-15. OOP\\archive\\24-12-10.pkl\n",
      "===\n"
     ]
    }
   ],
   "source": [
    "import os\n",
    "\n",
    "def walk_desc(path=None):\n",
    "    start_path = path if path is not None else os.getcwd()\n",
    "\n",
    "    for root, dirs, files in os.walk(start_path):\n",
    "        print(\"Текущая директория\", root)\n",
    "        print(\"---\")\n",
    "\n",
    "        if dirs:\n",
    "            print(\"Список папок\", dirs)\n",
    "        else:\n",
    "            print(\"Папок нет\")\n",
    "        print(\"---\")\n",
    "\n",
    "        if files:\n",
    "            print(\"Список файлов\", files)\n",
    "        else:\n",
    "            print(\"Файлов нет\")\n",
    "        print(\"---\")\n",
    "\n",
    "        if files and dirs:\n",
    "            print(\"Все пути:\")\n",
    "        for f in files:\n",
    "            print(\"Файл \", os.path.join(root, f))\n",
    "        for d in dirs:\n",
    "            print(\"Папка \", os.path.join(root, d))\n",
    "        print(\"===\")\n",
    "\n",
    "walk_desc()"
   ]
  },
  {
   "cell_type": "markdown",
   "metadata": {},
   "source": [
    "## <center>Работа с файлами</center>\n",
    "\n",
    "Python «из коробки» располагает достаточно широким набором инструментов для работы с файлами. Для того чтобы начать работать с файлом, надо его открыть с помощью команды специальной функции open.\n",
    "\n",
    "f = open('path/to/file', 'filemode', encoding='utf8')\n",
    "\n",
    "Результатом этой операции будет файл, в котором указатель текущей позиции поставлен на начало или конец файла.\n",
    "\n",
    "Перед тем, как мы начнём разбирать аргументы, хотелось бы заранее отметить, что указателем называется скорее метка, которая указывает на определённое место в файле. Указателей в классическом понимании программиста, как, например, в C или C++ в Python нет!\n",
    "\n",
    "Давайте по порядку разберём все аргументы:\n",
    "\n",
    "1. path/to/file — путь к файлу может быть относительным или абсолютным. Можно указывать в Unix-стиле (path/to/file) или в Windows-стиле (path\\to\\file).\n",
    "2. filemode — режим, в котором файл нужно открывать.\n",
    "\n",
    "Записывается в виде строки, может принимать следующие значения:\n",
    "* r — открыть на чтение (по умолчанию);\n",
    "* w — перезаписать и открыть на запись (если файла нет, то он создастся);\n",
    "* x — создать и открыть на запись (если уже есть — исключение);\n",
    "* a — открыть на дозапись (указатель будет поставлен в конец);\n",
    "* t — открыть в текстовом виде (по умолчанию);\n",
    "* b — открыть в бинарном виде.\n",
    "3. encoding — указание, в какой кодировке файл записан (utf8, cp1251 и т. д.) По умолчанию стоит utf-8. При этом можно записывать кодировку как через дефис, так и без: utf-8 или utf8.\n",
    "Открытие файла на запись является блокирующей операцией, то есть она останавливает работу нашей программы до того, пока файл не откроется.\n",
    "\n",
    "Теперь давайте поговорим про то, как записывать какую-либо информацию в файл.\n",
    "\n",
    "При открытии файла внутри него ставится указатель текущей позиции для чтения. При открытии в режиме чтения ('r') или записи ('w') указатель ставится на начало, в режиме 'a' (добавление новых записей в конец файла) — в конец.\n",
    "\n",
    "Откроем файл на запись и с помощью метода write запишем в него строку. В качестве результата метод write возвращает количество записанных символов."
   ]
  },
  {
   "cell_type": "code",
   "execution_count": 26,
   "metadata": {},
   "outputs": [
    {
     "data": {
      "text/plain": [
       "21"
      ]
     },
     "execution_count": 26,
     "metadata": {},
     "output_type": "execute_result"
    }
   ],
   "source": [
    "f = open('test.txt', 'w', encoding='utf8')\n",
    "\n",
    "# Запишем в файл строку\n",
    "f.write(\"This is a test string\\n\")\n",
    "f.write(\"This is a new string\\n\")"
   ]
  },
  {
   "cell_type": "markdown",
   "metadata": {},
   "source": [
    "После вызова команды write ваши данные не сразу попадут и сохранятся в файл. Связано это с особенностями внутренней работы операционных систем. Если для вас критично своевременное попадание информации на жесткий диск компьютера, то после записи вызывайте f.flush() или закрывайте файл. Закрыть файл можно с помощью метода close()."
   ]
  },
  {
   "cell_type": "code",
   "execution_count": 27,
   "metadata": {},
   "outputs": [],
   "source": [
    "# обязательно нужно закрыть файл иначе он будет заблокирован ОС\n",
    "f.close()"
   ]
  },
  {
   "cell_type": "markdown",
   "metadata": {},
   "source": [
    "Теперь давайте посмотрим, как читать данные из файла.\n",
    "\n",
    "Откроем файл для чтения, в который только что записали две строки:"
   ]
  },
  {
   "cell_type": "code",
   "execution_count": 28,
   "metadata": {},
   "outputs": [],
   "source": [
    "f = open('test.txt', 'r', encoding='utf8')"
   ]
  },
  {
   "cell_type": "markdown",
   "metadata": {},
   "source": [
    "Вот его содержимое на жестком диске:\n",
    "\n",
    "This is a test string  \n",
    "This is a new string\n",
    "\n",
    "После того, как файл открыт для чтения, мы можем читать из него данные.\n",
    "\n",
    "f.read(n) — операция, читающая с текущего места n символов, если файл открыт в t режиме, или n байт, если файл открыт в b режиме, и возвращающая прочитанную информацию."
   ]
  },
  {
   "cell_type": "code",
   "execution_count": 29,
   "metadata": {},
   "outputs": [
    {
     "name": "stdout",
     "output_type": "stream",
     "text": [
      "This is a \n"
     ]
    }
   ],
   "source": [
    "print(f.read(10)) # This is a "
   ]
  },
  {
   "cell_type": "markdown",
   "metadata": {},
   "source": [
    "После прочтения указатель на содержимое остается на той позиции, где чтение закончилось. Если n не указать, будет прочитано «от печки», то есть от текущего места указателя и до самого конца файла."
   ]
  },
  {
   "cell_type": "code",
   "execution_count": 30,
   "metadata": {},
   "outputs": [
    {
     "data": {
      "text/plain": [
       "'test string\\nThis is a new string\\n'"
      ]
     },
     "execution_count": 30,
     "metadata": {},
     "output_type": "execute_result"
    }
   ],
   "source": [
    "# считали остаток файла\n",
    "f.read() # test string\\nThis is a new string\\n"
   ]
  },
  {
   "cell_type": "markdown",
   "metadata": {},
   "source": [
    "После работы обязательно закрываем файл:"
   ]
  },
  {
   "cell_type": "code",
   "execution_count": 31,
   "metadata": {},
   "outputs": [],
   "source": [
    "# обязательно закрываем файл\n",
    "f.close()"
   ]
  },
  {
   "cell_type": "markdown",
   "metadata": {},
   "source": [
    "### <center>Чтение и запись построчно</center>\n",
    "\n",
    "Зачастую с файлами удобнее работать построчно, поэтому для этого есть отдельные методы:\n",
    "\n",
    "* writelines — записывает список строк в файл;\n",
    "* readline — считывает из файла одну строку и возвращает её;\n",
    "* readlines — считывает из файла все строки в список и возвращает их.\n",
    "Метод f.writelines(sequence) не будет сам за вас дописывать символ конца строки ('\\n'), поэтому при необходимости его нужно прописать вручную."
   ]
  },
  {
   "cell_type": "code",
   "execution_count": 32,
   "metadata": {},
   "outputs": [],
   "source": [
    "f = open('test.txt', 'a', encoding='utf8') # открываем файл на дозапись\n",
    "\n",
    "sequence = [\"other string\\n\", \"123\\n\", \"test test\\n\"]\n",
    "f.writelines(sequence) # берет строки из sequence и записывает в файл (без переносов)\n",
    "\n",
    "f.close()"
   ]
  },
  {
   "cell_type": "markdown",
   "metadata": {},
   "source": [
    "Попробуем теперь построчно считать файл с помощью readlines:"
   ]
  },
  {
   "cell_type": "code",
   "execution_count": 33,
   "metadata": {},
   "outputs": [
    {
     "name": "stdout",
     "output_type": "stream",
     "text": [
      "['This is a test string\\n', 'This is a new string\\n', 'other string\\n', '123\\n', 'test test\\n']\n"
     ]
    }
   ],
   "source": [
    "f = open('test.txt', 'r', encoding='utf8')\n",
    "\n",
    "print(f.readlines()) # считывает все строки в список и возвращает список\n",
    "\n",
    "f.close()"
   ]
  },
  {
   "cell_type": "markdown",
   "metadata": {},
   "source": [
    "Метод f.readline() возвращает строку (символы от текущей позиции до символа переноса строки \\n, который остаётся в конце строки и опускается только в последней строке файла, если файл не заканчивается новой строкой):"
   ]
  },
  {
   "cell_type": "code",
   "execution_count": 34,
   "metadata": {},
   "outputs": [
    {
     "name": "stdout",
     "output_type": "stream",
     "text": [
      "This is a test string\n",
      "\n",
      "This\n",
      " is a new string\n",
      "\n"
     ]
    }
   ],
   "source": [
    "f = open('test.txt', 'r', encoding='utf8')\n",
    "\n",
    "print(f.readline()) # This is a test string\n",
    "print(f.read(4)) # This\n",
    "print(f.readline()) # is a new string\n",
    "\n",
    "f.close()"
   ]
  },
  {
   "cell_type": "markdown",
   "metadata": {},
   "source": [
    "### <center>Файл как итератор</center>\n",
    "\n",
    "Объект файл является итератором, поэтому его можно использовать в цикле for.\n",
    "\n",
    "? Для чего это нужно?\n",
    "\n",
    "Итераторы представляют собой такой объект, который вычисляет какие-то действия на каждом шаге, а не все сразу. На примере файла это выглядит примерно так. Предположим, у вас есть огромный текстовый файл, который весит несколько гигабайт. Если попытаться разом считать его полностью с помощью f.readlines(), то он будет загружен в вашу программу, в то время как переменная, в которую будет записан файл, станет весить столько же, сколько и объём считанного файла.\n",
    "\n",
    "В большинстве задач с обработкой текста он весь сразу не нужен, поэтому мы можем, например, считывать его построчно, обрабатывать строку и забывать из нашей программы, чтобы считать новую. Тогда весь файл огромного объема не будет «висеть» в памяти компьютера.\n",
    "\n",
    "Не стоит считывать файл полностью — в большинстве задач с обработкой текста весь файл разом читать не требуется. В таком случае с файлом работают построчно."
   ]
  },
  {
   "cell_type": "code",
   "execution_count": 35,
   "metadata": {},
   "outputs": [
    {
     "name": "stdout",
     "output_type": "stream",
     "text": [
      "This is a test string\n",
      "This is a new string\n",
      "other string\n",
      "123\n",
      "test test\n"
     ]
    }
   ],
   "source": [
    "f = open('test.txt')  # можно перечислять строки в файле\n",
    "for line in f:\n",
    "    print(line, end='')\n",
    "\n",
    "# This is a test string\n",
    "# This is a new string\n",
    "# other string\n",
    "# 123\n",
    "# test test\n",
    "\n",
    "f.close()"
   ]
  },
  {
   "cell_type": "markdown",
   "metadata": {},
   "source": [
    "Цикл for, как мы помним, — это цикл, который перебирает по очереди.\n",
    "\n",
    "### <center>Менеджер контекста with</center>\n",
    "\n",
    "После работы с файлом его необходимо закрыть с помощью метода close(). Файл освобождается для операционной системы (если он был открыт для записи), и другие приложения могут получать к нему доступ. Если не закрыть файл явно, то информация, записываемая в него, может быть утеряна, или файл может повредиться.\n",
    "\n",
    "Для явного указания места работы с файлом, а также чтобы не забывать закрывать файл после обработки, существует менеджер контекста with."
   ]
  },
  {
   "cell_type": "code",
   "execution_count": 36,
   "metadata": {},
   "outputs": [
    {
     "ename": "ValueError",
     "evalue": "read of closed file",
     "output_type": "error",
     "traceback": [
      "\u001b[1;31m---------------------------------------------------------------------------\u001b[0m",
      "\u001b[1;31mValueError\u001b[0m                                Traceback (most recent call last)",
      "Cell \u001b[1;32mIn[36], line 6\u001b[0m\n\u001b[0;32m      3\u001b[0m     a \u001b[38;5;241m=\u001b[39m f\u001b[38;5;241m.\u001b[39mread(\u001b[38;5;241m10\u001b[39m)\n\u001b[0;32m      4\u001b[0m     b \u001b[38;5;241m=\u001b[39m f\u001b[38;5;241m.\u001b[39mread(\u001b[38;5;241m23\u001b[39m)\n\u001b[1;32m----> 6\u001b[0m \u001b[43mf\u001b[49m\u001b[38;5;241;43m.\u001b[39;49m\u001b[43mread\u001b[49m\u001b[43m(\u001b[49m\u001b[38;5;241;43m3\u001b[39;49m\u001b[43m)\u001b[49m \u001b[38;5;66;03m# Error!\u001b[39;00m\n",
      "\u001b[1;31mValueError\u001b[0m: read of closed file"
     ]
    }
   ],
   "source": [
    "# В блоке менеджера контекста открытый файл «жив» и с ним можно работать, при выходе из блока - файл закрывается.\n",
    "with open(\"test.txt\", 'rb') as f:\n",
    "    a = f.read(10)\n",
    "    b = f.read(23)\n",
    "\n",
    "f.read(3) # Error!"
   ]
  },
  {
   "cell_type": "markdown",
   "metadata": {},
   "source": [
    "Тело менеджера контекста определяется одним отступом вправо относительно отступов ключевого слова with. Менеджер контекста неявно вызывает закрытие файла после работы, что освобождает вас от забот о том, закрыли ли вы файл или нет. Закрытие файла происходит при любом стечении обстоятельств, даже если внутри with будет ошибка. \n",
    "\n",
    "В дальнейшем мы научимся писать собственные структуры, работающие похожим образом."
   ]
  },
  {
   "cell_type": "markdown",
   "metadata": {},
   "source": [
    "Создайте любой файл на операционной системе под название input.txt и построчно перепишите его в файл output.txt."
   ]
  },
  {
   "cell_type": "code",
   "execution_count": 38,
   "metadata": {},
   "outputs": [],
   "source": [
    "with open(\"test.txt\", \"r\") as input_file:\n",
    "    with open(\"output.txt\", \"w\") as output_file:\n",
    "        for line in input_file:\n",
    "            output_file.write(line)"
   ]
  },
  {
   "cell_type": "markdown",
   "metadata": {},
   "source": [
    "Дан файл numbers.txt, компоненты которого являются действительными числами (файл создайте самостоятельно и заполните любыми числам, в одной строке одно число). Найдите сумму наибольшего и наименьшего из значений и запишите результат в файл output.txt."
   ]
  },
  {
   "cell_type": "code",
   "execution_count": 40,
   "metadata": {},
   "outputs": [],
   "source": [
    "filename = 'numbers.txt'\n",
    "output = 'output.txt'\n",
    "\n",
    "with open(filename) as f:\n",
    "    min_ = max_ = float(f.readline())  # считали первое число\n",
    "    for line in f:\n",
    "        num =  float(line)\n",
    "        if num > max_:\n",
    "            max_ = num\n",
    "        elif num < min_:\n",
    "            min_ = num\n",
    "\n",
    "    sum_ = min_ + max_\n",
    "\n",
    "with open(output, 'w') as f:\n",
    "    f.write(str(sum_))\n",
    "    f.write('\\n')"
   ]
  },
  {
   "cell_type": "markdown",
   "metadata": {},
   "source": [
    "В текстовый файл построчно записаны фамилии и имена учащихся класса и их оценки за контрольную. Подсчитайте количество учащихся, чья оценка меньше 3 баллов. Cодержание файла:\n",
    "\n",
    "Иванов О. 4\n",
    "Петров И. 3\n",
    "Дмитриев Н. 2\n",
    "Смирнова О. 4\n",
    "Керченских В. 5\n",
    "Котов Д. 2\n",
    "Бирюкова Н. 1\n",
    "Данилов П. 3\n",
    "Аранских В. 5\n",
    "Лемонов Ю. 2\n",
    "Олегова К. 4"
   ]
  },
  {
   "cell_type": "code",
   "execution_count": 41,
   "metadata": {},
   "outputs": [
    {
     "ename": "UnicodeDecodeError",
     "evalue": "'charmap' codec can't decode byte 0x98 in position 1: character maps to <undefined>",
     "output_type": "error",
     "traceback": [
      "\u001b[1;31m---------------------------------------------------------------------------\u001b[0m",
      "\u001b[1;31mUnicodeDecodeError\u001b[0m                        Traceback (most recent call last)",
      "Cell \u001b[1;32mIn[41], line 2\u001b[0m\n\u001b[0;32m      1\u001b[0m count \u001b[38;5;241m=\u001b[39m \u001b[38;5;241m0\u001b[39m\n\u001b[1;32m----> 2\u001b[0m \u001b[38;5;28;43;01mfor\u001b[39;49;00m\u001b[43m \u001b[49m\u001b[43mline\u001b[49m\u001b[43m \u001b[49m\u001b[38;5;129;43;01min\u001b[39;49;00m\u001b[43m \u001b[49m\u001b[38;5;28;43mopen\u001b[39;49m\u001b[43m(\u001b[49m\u001b[38;5;124;43m\"\u001b[39;49m\u001b[38;5;124;43minput.txt\u001b[39;49m\u001b[38;5;124;43m\"\u001b[39;49m\u001b[43m)\u001b[49m\u001b[43m:\u001b[49m\n\u001b[0;32m      3\u001b[0m \u001b[43m    \u001b[49m\u001b[43mpoints\u001b[49m\u001b[43m \u001b[49m\u001b[38;5;241;43m=\u001b[39;49m\u001b[43m \u001b[49m\u001b[38;5;28;43mint\u001b[39;49m\u001b[43m(\u001b[49m\u001b[43mline\u001b[49m\u001b[38;5;241;43m.\u001b[39;49m\u001b[43msplit\u001b[49m\u001b[43m(\u001b[49m\u001b[43m)\u001b[49m\u001b[43m[\u001b[49m\u001b[38;5;241;43m-\u001b[39;49m\u001b[38;5;241;43m1\u001b[39;49m\u001b[43m]\u001b[49m\u001b[43m)\u001b[49m\n\u001b[0;32m      4\u001b[0m \u001b[43m    \u001b[49m\u001b[38;5;28;43;01mif\u001b[39;49;00m\u001b[43m \u001b[49m\u001b[43mpoints\u001b[49m\u001b[43m \u001b[49m\u001b[38;5;241;43m<\u001b[39;49m\u001b[43m \u001b[49m\u001b[38;5;241;43m3\u001b[39;49m\u001b[43m:\u001b[49m\n",
      "File \u001b[1;32mc:\\Users\\user\\AppData\\Local\\Programs\\Python\\Python313\\Lib\\encodings\\cp1251.py:23\u001b[0m, in \u001b[0;36mIncrementalDecoder.decode\u001b[1;34m(self, input, final)\u001b[0m\n\u001b[0;32m     22\u001b[0m \u001b[38;5;28;01mdef\u001b[39;00m \u001b[38;5;21mdecode\u001b[39m(\u001b[38;5;28mself\u001b[39m, \u001b[38;5;28minput\u001b[39m, final\u001b[38;5;241m=\u001b[39m\u001b[38;5;28;01mFalse\u001b[39;00m):\n\u001b[1;32m---> 23\u001b[0m     \u001b[38;5;28;01mreturn\u001b[39;00m \u001b[43mcodecs\u001b[49m\u001b[38;5;241;43m.\u001b[39;49m\u001b[43mcharmap_decode\u001b[49m\u001b[43m(\u001b[49m\u001b[38;5;28;43minput\u001b[39;49m\u001b[43m,\u001b[49m\u001b[38;5;28;43mself\u001b[39;49m\u001b[38;5;241;43m.\u001b[39;49m\u001b[43merrors\u001b[49m\u001b[43m,\u001b[49m\u001b[43mdecoding_table\u001b[49m\u001b[43m)\u001b[49m[\u001b[38;5;241m0\u001b[39m]\n",
      "\u001b[1;31mUnicodeDecodeError\u001b[0m: 'charmap' codec can't decode byte 0x98 in position 1: character maps to <undefined>"
     ]
    }
   ],
   "source": [
    "count = 0\n",
    "for line in open(\"input.txt\"):\n",
    "    points = int(line.split()[-1])\n",
    "    if points < 3:\n",
    "        count += 1"
   ]
  },
  {
   "cell_type": "markdown",
   "metadata": {},
   "source": [
    "Выполните реверсирование строк файла (перестановку строк файла в обратном порядке)."
   ]
  },
  {
   "cell_type": "code",
   "execution_count": 42,
   "metadata": {},
   "outputs": [
    {
     "ename": "UnicodeDecodeError",
     "evalue": "'charmap' codec can't decode byte 0x98 in position 1: character maps to <undefined>",
     "output_type": "error",
     "traceback": [
      "\u001b[1;31m---------------------------------------------------------------------------\u001b[0m",
      "\u001b[1;31mUnicodeDecodeError\u001b[0m                        Traceback (most recent call last)",
      "Cell \u001b[1;32mIn[42], line 3\u001b[0m\n\u001b[0;32m      1\u001b[0m \u001b[38;5;28;01mwith\u001b[39;00m \u001b[38;5;28mopen\u001b[39m(\u001b[38;5;124m\"\u001b[39m\u001b[38;5;124minput.txt\u001b[39m\u001b[38;5;124m\"\u001b[39m, \u001b[38;5;124m\"\u001b[39m\u001b[38;5;124mr\u001b[39m\u001b[38;5;124m\"\u001b[39m) \u001b[38;5;28;01mas\u001b[39;00m input_file:\n\u001b[0;32m      2\u001b[0m     \u001b[38;5;28;01mwith\u001b[39;00m \u001b[38;5;28mopen\u001b[39m(\u001b[38;5;124m\"\u001b[39m\u001b[38;5;124moutput.txt\u001b[39m\u001b[38;5;124m\"\u001b[39m, \u001b[38;5;124m\"\u001b[39m\u001b[38;5;124mw\u001b[39m\u001b[38;5;124m\"\u001b[39m) \u001b[38;5;28;01mas\u001b[39;00m output_file:\n\u001b[1;32m----> 3\u001b[0m         \u001b[38;5;28;01mfor\u001b[39;00m line \u001b[38;5;129;01min\u001b[39;00m \u001b[38;5;28mreversed\u001b[39m(\u001b[43minput_file\u001b[49m\u001b[38;5;241;43m.\u001b[39;49m\u001b[43mreadlines\u001b[49m\u001b[43m(\u001b[49m\u001b[43m)\u001b[49m):\n\u001b[0;32m      4\u001b[0m             output_file\u001b[38;5;241m.\u001b[39mwrite(line)\n",
      "File \u001b[1;32mc:\\Users\\user\\AppData\\Local\\Programs\\Python\\Python313\\Lib\\encodings\\cp1251.py:23\u001b[0m, in \u001b[0;36mIncrementalDecoder.decode\u001b[1;34m(self, input, final)\u001b[0m\n\u001b[0;32m     22\u001b[0m \u001b[38;5;28;01mdef\u001b[39;00m \u001b[38;5;21mdecode\u001b[39m(\u001b[38;5;28mself\u001b[39m, \u001b[38;5;28minput\u001b[39m, final\u001b[38;5;241m=\u001b[39m\u001b[38;5;28;01mFalse\u001b[39;00m):\n\u001b[1;32m---> 23\u001b[0m     \u001b[38;5;28;01mreturn\u001b[39;00m \u001b[43mcodecs\u001b[49m\u001b[38;5;241;43m.\u001b[39;49m\u001b[43mcharmap_decode\u001b[49m\u001b[43m(\u001b[49m\u001b[38;5;28;43minput\u001b[39;49m\u001b[43m,\u001b[49m\u001b[38;5;28;43mself\u001b[39;49m\u001b[38;5;241;43m.\u001b[39;49m\u001b[43merrors\u001b[49m\u001b[43m,\u001b[49m\u001b[43mdecoding_table\u001b[49m\u001b[43m)\u001b[49m[\u001b[38;5;241m0\u001b[39m]\n",
      "\u001b[1;31mUnicodeDecodeError\u001b[0m: 'charmap' codec can't decode byte 0x98 in position 1: character maps to <undefined>"
     ]
    }
   ],
   "source": [
    "with open(\"input.txt\", \"r\") as input_file:\n",
    "    with open(\"output.txt\", \"w\") as output_file:\n",
    "        for line in reversed(input_file.readlines()):\n",
    "            output_file.write(line)"
   ]
  }
 ],
 "metadata": {
  "kernelspec": {
   "display_name": "Python 3",
   "language": "python",
   "name": "python3"
  },
  "language_info": {
   "codemirror_mode": {
    "name": "ipython",
    "version": 3
   },
   "file_extension": ".py",
   "mimetype": "text/x-python",
   "name": "python",
   "nbconvert_exporter": "python",
   "pygments_lexer": "ipython3",
   "version": "3.13.0"
  }
 },
 "nbformat": 4,
 "nbformat_minor": 2
}
