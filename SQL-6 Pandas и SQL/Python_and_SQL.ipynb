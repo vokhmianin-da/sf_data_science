{
  "cells": [
    {
      "cell_type": "markdown",
      "id": "963361ba",
      "metadata": {
        "id": "963361ba"
      },
      "source": [
        "### Настройки"
      ]
    },
    {
      "cell_type": "markdown",
      "id": "BAOI-9wun13V",
      "metadata": {
        "id": "BAOI-9wun13V"
      },
      "source": [
        "Начинаем с импорта библиотек"
      ]
    },
    {
      "cell_type": "code",
      "execution_count": 14,
      "id": "928bd544",
      "metadata": {
        "id": "928bd544"
      },
      "outputs": [],
      "source": [
        "import pandas as pd\n",
        "import psycopg2"
      ]
    },
    {
      "cell_type": "code",
      "execution_count": null,
      "id": "hs66HgVWqgRA",
      "metadata": {
        "id": "hs66HgVWqgRA"
      },
      "outputs": [
        {
          "name": "stdout",
          "output_type": "stream",
          "text": [
            "{'DBNAME': 'skillfactory', 'USER': 'skillfactory', 'PASSWORD': 'cCkxxLVrDE8EbvjueeMedPKt', 'HOST': '84.201.134.129', 'PORT': 5432} <class 'dict'>\n"
          ]
        }
      ],
      "source": [
        "# хороший тон при фиксации изменений в github не публиковать код с открытыми данными для входа\n",
        "# для запуска кода поместите данные, которые указаны на странице курса в эту ячейку\n",
        "# при размещении в github удалите эту ячейку\n",
        "\n",
        "import json\n",
        "\n",
        "with open('data/connect.json', 'r') as f:\n",
        "    config = json.load(f)"
      ]
    },
    {
      "cell_type": "markdown",
      "id": "TEgQI_RKfqa9",
      "metadata": {
        "id": "TEgQI_RKfqa9"
      },
      "source": [
        "Создаем соединение с заданными параметрами"
      ]
    },
    {
      "cell_type": "code",
      "execution_count": 16,
      "id": "70d84b8f",
      "metadata": {
        "id": "70d84b8f"
      },
      "outputs": [],
      "source": [
        "connection = psycopg2.connect(\n",
        "    dbname=config['DBNAME'],\n",
        "    user=config['USER'],\n",
        "    host=config['HOST'],\n",
        "    password=config['PASSWORD'],\n",
        "    port=config['PORT']\n",
        ")"
      ]
    },
    {
      "cell_type": "markdown",
      "id": "06k1EnoRiC-I",
      "metadata": {
        "id": "06k1EnoRiC-I"
      },
      "source": [
        "Запрос"
      ]
    },
    {
      "cell_type": "code",
      "execution_count": 17,
      "id": "35e24169",
      "metadata": {
        "id": "35e24169"
      },
      "outputs": [],
      "source": [
        "# код запроса представляет из себя строковую переменную\n",
        "n = 10\n",
        "query = f'''select * \n",
        "            from sql.pokemon \n",
        "            limit {n}\n",
        "         '''\n",
        "# лучше использовать f-строки - так удобнее передавать параметры"
      ]
    },
    {
      "cell_type": "markdown",
      "id": "52648c9f",
      "metadata": {
        "id": "52648c9f"
      },
      "source": [
        "### Выполнение запроса"
      ]
    },
    {
      "cell_type": "code",
      "execution_count": 18,
      "id": "2fe9f6eb",
      "metadata": {
        "colab": {
          "base_uri": "https://localhost:8080/",
          "height": 363
        },
        "id": "2fe9f6eb",
        "outputId": "771dd6f1-4300-4076-e462-d7ce388295d5"
      },
      "outputs": [
        {
          "name": "stderr",
          "output_type": "stream",
          "text": [
            "C:\\Users\\user\\AppData\\Local\\Temp\\ipykernel_1764\\2473184231.py:2: UserWarning: pandas only supports SQLAlchemy connectable (engine/connection) or database string URI or sqlite3 DBAPI2 connection. Other DBAPI2 objects are not tested. Please consider using SQLAlchemy.\n",
            "  df = pd.read_sql_query(query, connection)\n"
          ]
        },
        {
          "data": {
            "text/html": [
              "<div>\n",
              "<style scoped>\n",
              "    .dataframe tbody tr th:only-of-type {\n",
              "        vertical-align: middle;\n",
              "    }\n",
              "\n",
              "    .dataframe tbody tr th {\n",
              "        vertical-align: top;\n",
              "    }\n",
              "\n",
              "    .dataframe thead th {\n",
              "        text-align: right;\n",
              "    }\n",
              "</style>\n",
              "<table border=\"1\" class=\"dataframe\">\n",
              "  <thead>\n",
              "    <tr style=\"text-align: right;\">\n",
              "      <th></th>\n",
              "      <th>id</th>\n",
              "      <th>name</th>\n",
              "      <th>type1</th>\n",
              "      <th>type2</th>\n",
              "      <th>hp</th>\n",
              "      <th>attack</th>\n",
              "      <th>defense</th>\n",
              "      <th>speed</th>\n",
              "    </tr>\n",
              "  </thead>\n",
              "  <tbody>\n",
              "    <tr>\n",
              "      <th>0</th>\n",
              "      <td>1</td>\n",
              "      <td>Bulbasaur</td>\n",
              "      <td>Grass</td>\n",
              "      <td>Poison</td>\n",
              "      <td>45</td>\n",
              "      <td>49</td>\n",
              "      <td>49</td>\n",
              "      <td>45</td>\n",
              "    </tr>\n",
              "    <tr>\n",
              "      <th>1</th>\n",
              "      <td>2</td>\n",
              "      <td>Ivysaur</td>\n",
              "      <td>Grass</td>\n",
              "      <td>Poison</td>\n",
              "      <td>60</td>\n",
              "      <td>62</td>\n",
              "      <td>63</td>\n",
              "      <td>60</td>\n",
              "    </tr>\n",
              "    <tr>\n",
              "      <th>2</th>\n",
              "      <td>3</td>\n",
              "      <td>Venusaur</td>\n",
              "      <td>Grass</td>\n",
              "      <td>Poison</td>\n",
              "      <td>80</td>\n",
              "      <td>82</td>\n",
              "      <td>83</td>\n",
              "      <td>80</td>\n",
              "    </tr>\n",
              "    <tr>\n",
              "      <th>3</th>\n",
              "      <td>4</td>\n",
              "      <td>VenusaurMega Venusaur</td>\n",
              "      <td>Grass</td>\n",
              "      <td>Poison</td>\n",
              "      <td>80</td>\n",
              "      <td>100</td>\n",
              "      <td>123</td>\n",
              "      <td>80</td>\n",
              "    </tr>\n",
              "    <tr>\n",
              "      <th>4</th>\n",
              "      <td>7</td>\n",
              "      <td>Charizard</td>\n",
              "      <td>Fire</td>\n",
              "      <td>Flying</td>\n",
              "      <td>78</td>\n",
              "      <td>84</td>\n",
              "      <td>78</td>\n",
              "      <td>100</td>\n",
              "    </tr>\n",
              "    <tr>\n",
              "      <th>5</th>\n",
              "      <td>8</td>\n",
              "      <td>CharizardMega Charizard X</td>\n",
              "      <td>Fire</td>\n",
              "      <td>Dragon</td>\n",
              "      <td>78</td>\n",
              "      <td>130</td>\n",
              "      <td>111</td>\n",
              "      <td>100</td>\n",
              "    </tr>\n",
              "    <tr>\n",
              "      <th>6</th>\n",
              "      <td>9</td>\n",
              "      <td>CharizardMega Charizard Y</td>\n",
              "      <td>Fire</td>\n",
              "      <td>Flying</td>\n",
              "      <td>78</td>\n",
              "      <td>104</td>\n",
              "      <td>78</td>\n",
              "      <td>100</td>\n",
              "    </tr>\n",
              "    <tr>\n",
              "      <th>7</th>\n",
              "      <td>16</td>\n",
              "      <td>Butterfree</td>\n",
              "      <td>Bug</td>\n",
              "      <td>Flying</td>\n",
              "      <td>60</td>\n",
              "      <td>45</td>\n",
              "      <td>50</td>\n",
              "      <td>70</td>\n",
              "    </tr>\n",
              "    <tr>\n",
              "      <th>8</th>\n",
              "      <td>17</td>\n",
              "      <td>Weedle</td>\n",
              "      <td>Bug</td>\n",
              "      <td>Poison</td>\n",
              "      <td>40</td>\n",
              "      <td>35</td>\n",
              "      <td>30</td>\n",
              "      <td>50</td>\n",
              "    </tr>\n",
              "    <tr>\n",
              "      <th>9</th>\n",
              "      <td>18</td>\n",
              "      <td>Kakuna</td>\n",
              "      <td>Bug</td>\n",
              "      <td>Poison</td>\n",
              "      <td>45</td>\n",
              "      <td>25</td>\n",
              "      <td>50</td>\n",
              "      <td>35</td>\n",
              "    </tr>\n",
              "  </tbody>\n",
              "</table>\n",
              "</div>"
            ],
            "text/plain": [
              "   id                       name  type1   type2  hp  attack  defense  speed\n",
              "0   1                  Bulbasaur  Grass  Poison  45      49       49     45\n",
              "1   2                    Ivysaur  Grass  Poison  60      62       63     60\n",
              "2   3                   Venusaur  Grass  Poison  80      82       83     80\n",
              "3   4      VenusaurMega Venusaur  Grass  Poison  80     100      123     80\n",
              "4   7                  Charizard   Fire  Flying  78      84       78    100\n",
              "5   8  CharizardMega Charizard X   Fire  Dragon  78     130      111    100\n",
              "6   9  CharizardMega Charizard Y   Fire  Flying  78     104       78    100\n",
              "7  16                 Butterfree    Bug  Flying  60      45       50     70\n",
              "8  17                     Weedle    Bug  Poison  40      35       30     50\n",
              "9  18                     Kakuna    Bug  Poison  45      25       50     35"
            ]
          },
          "execution_count": 18,
          "metadata": {},
          "output_type": "execute_result"
        }
      ],
      "source": [
        "# используем метод read_sql_query, чтобы получить результаты запроса сразу в виде датафрейма\n",
        "df = pd.read_sql_query(query, connection)\n",
        "df"
      ]
    },
    {
      "cell_type": "markdown",
      "id": "622e62c1",
      "metadata": {
        "id": "622e62c1"
      },
      "source": [
        "### Финал"
      ]
    },
    {
      "cell_type": "code",
      "execution_count": 19,
      "id": "8a103f6a",
      "metadata": {
        "id": "8a103f6a"
      },
      "outputs": [],
      "source": [
        "# не забываем закрыть соединение после окончания работы\n",
        "connection.close()"
      ]
    },
    {
      "cell_type": "markdown",
      "id": "2dedb2b3",
      "metadata": {},
      "source": [
        "# <center>2. Введение. Знакомство с данными проекта 2</center>"
      ]
    },
    {
      "cell_type": "markdown",
      "id": "f85ed3e4",
      "metadata": {},
      "source": [
        "✍ Представьте, что вы устроились на работу в кадровое агентство, которое подбирает вакансии для IT-специалистов. Ваш первый проект — создание модели машинного обучения, которая будет рекомендовать вакансии клиентам агентства, претендующим на позицию Data Scientist. Сначала вам необходимо понять, что из себя представляют данные и насколько они соответствуют целям проекта. В литературе эта часть работы над ML-проектом называется Data Understanding, или анализ данных.\n",
        "\n",
        "Наш проект включает в себя несколько этапов:\n",
        "* знакомство с данными;\n",
        "* предварительный анализ данных;\n",
        "* детальный анализ вакансий;\n",
        "* анализ работодателей;\n",
        "* предметный анализ.\n",
        "* Каждая из частей будет состоять из блока практических заданий, которые вам необходимо выполнить в своих Jupyter-ноутбуках, и контрольных вопросов на платформе, которые проверяются автоматически.\n",
        "\n",
        "Также вам предстоит отправить свой код ментору для код-ревью. Вам будет предоставлен ноутбук-шаблон и требования, согласно которым вы должны оформить своё решение."
      ]
    },
    {
      "cell_type": "markdown",
      "id": "64849874",
      "metadata": {},
      "source": [
        "Требования к оформлению ноутбука-решения:\n",
        "\n",
        "* Решение оформляется только в Jupyter Notebook.\n",
        "* Решение оформляется в соответствии с [ноутбуком-шаблоном](https://lms.skillfactory.ru/asset-v1:SkillFactory+DST-3.0+28FEB2021+type@asset+block@Project_2_%D0%9D%D0%BE%D1%83%D1%82%D0%B1%D1%83%D0%BA_%D1%88%D0%B0%D0%B1%D0%BB%D0%BE%D0%BD.ipynb).\n",
        "* Каждое задание выполняется в отдельной ячейке, выделенной под задание (в шаблоне они помечены как ваш код здесь). Не следует создавать много ячеек для решения задачи — это провоцирует неудобства при проверке.\n",
        "* Текст SQL-запросов и код на Python должны быть читаемыми. Не забывайте про отступы в SQL-коде.\n",
        "* Выводы по каждому этапу оформляются в формате Markdown в отдельной ячейке (в шаблоне они помечены как ваши выводы здесь).\n",
        "* Выводы можно дополнительно проиллюстрировать с помощью графиков. Они оформляются в соответствии с теми правилами, которые мы приводили в модуле по визуализации данных.\n",
        "* Не забудьте удалить ячейку с данными соединения перед фиксацией работы в GitHub."
      ]
    },
    {
      "cell_type": "markdown",
      "id": "188ff986",
      "metadata": {},
      "source": [
        "![](data/asset-v1_SkillFactory+DST-3.0+28FEB2021+type@asset+block@SQL_pj2_2_1.png)\n",
        "\n",
        "Познакомимся с каждой таблицей.\n",
        "\n",
        "**vacancies**\n",
        "\n",
        "Таблица хранит в себе данные по вакансиям и содержит следующие столбцы:  \n",
        "![](data/asset-v1_SkillFactory+DST-3.0+28FEB2021+type@asset+block@SQL_pj2_2_2.png)  \n",
        "Зарплатная вилка — это верхняя и нижняя граница оплаты труда в рублях (зарплаты в других валютах уже переведены в рубли). Соискателям она показывает, в каком диапазоне компания готова платить сотруднику на этой должности.\n",
        "\n",
        "**areas**\n",
        "\n",
        "Таблица-справочник, которая хранит код региона и его название.  \n",
        "![](data/asset-v1_SkillFactory+DST-3.0+28FEB2021+type@asset+block@SQL_pj2_2_3.png)\n",
        "\n",
        "**employers**\n",
        "\n",
        "Таблица-справочник со списком работодателей.  \n",
        "![](data/asset-v1_SkillFactory+DST-3.0+28FEB2021+type@asset+block@SQL_pj2_2_4.png)\n",
        "\n",
        "**industries**\n",
        "\n",
        "Таблица-справочник вариантов сфер деятельности работодателей.  \n",
        "![](data/asset-v1_SkillFactory+DST-3.0+28FEB2021+type@asset+block@SQL_pj2_2_5.png)\n",
        "\n",
        "**employers_industries**\n",
        "\n",
        "Дополнительная таблица, которая существует для организации связи между работодателями и сферами их деятельности.\n",
        "\n",
        "Эта таблица нужна нам, поскольку у одного работодателя может быть несколько сфер деятельности (или работодатели могут вовсе не указать их). Для удобства анализа необходимо хранить запись по каждой сфере каждого работодателя в отдельной строке таблицы.  \n",
        "![](data/asset-v1_SkillFactory+DST-3.0+28FEB2021+type@asset+block@SQL_pj2_2_6.png)"
      ]
    }
  ],
  "metadata": {
    "colab": {
      "collapsed_sections": [],
      "provenance": []
    },
    "kernelspec": {
      "display_name": "Python 3",
      "language": "python",
      "name": "python3"
    },
    "language_info": {
      "codemirror_mode": {
        "name": "ipython",
        "version": 3
      },
      "file_extension": ".py",
      "mimetype": "text/x-python",
      "name": "python",
      "nbconvert_exporter": "python",
      "pygments_lexer": "ipython3",
      "version": "3.13.0"
    }
  },
  "nbformat": 4,
  "nbformat_minor": 5
}
