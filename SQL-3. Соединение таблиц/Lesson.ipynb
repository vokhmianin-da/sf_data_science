{
 "cells": [
  {
   "cell_type": "markdown",
   "metadata": {},
   "source": [
    "# <center>1. Знакомимся с данными</center>"
   ]
  },
  {
   "cell_type": "markdown",
   "metadata": {},
   "source": [
    "✍ Вы уже умеете делать запросы к одной таблице, использовать агрегатные функции и фильтровать данные в выводе. Но в реальных условиях базы данных обычно содержат множество таблиц и при запросе необходимо обращаться к нескольким таблицам. Освоением этого навыка мы сейчас и займёмся ↓"
   ]
  },
  {
   "cell_type": "markdown",
   "metadata": {},
   "source": [
    "→ Первым делом — знакомимся с датасетом.\n",
    "\n",
    "В этом модуле мы будем работать с таблицами о футбольных матчах и командах.\n",
    "\n",
    "Таблицы этого модуля, как и все другие в курсе, лежат в схеме sql в [Metabase](http://sql.skillfactory.ru:3000/). Нам понадобятся таблицы teams и matches.\n",
    "\n",
    "**Таблица teams с данными о командах**\n",
    "\n",
    "|Название столбца|Содержимое столбца|\n",
    "|---|---|\n",
    "|id\t|id команды|\n",
    "|api_id\t|ключ на таблицу matches|\n",
    "|long_name\t|полное название команды|\n",
    "|short_name\t|сокращённое название команды|\n",
    "\n",
    "**Таблица matches с данными о матчах**\n",
    "\n",
    "|Название столбца|Содержимое столбца|\n",
    "|---|---|\n",
    "|id\t|id матча|\n",
    "|season\t|сезон|\n",
    "|date\t|дата матча|\n",
    "|home_team_api_id\t|api_id домашней команды, ключ на таблицу teams|\n",
    "|away_team_api_id\t|api_id гостевой команды, ключ на таблицу teams|\n",
    "|home_team_goals\t|количество голов домашней команды|\n",
    "|away_team_goals\t|количество голов гостевой команды|\n",
    "\n",
    "Примечание. Как и в предыдущих модулях, вы можете посмотреть подробный разбор структуры предлагаемых запросов во вкладке Детализация."
   ]
  },
  {
   "cell_type": "markdown",
   "metadata": {},
   "source": [
    "Исследуйте данные датасета самостоятельно.  \n",
    "→ Сколько различных полных названий команд в таблице teams?\n",
    "\n",
    "```sql\n",
    "SELECT COUNT(DISTINCT long_name) FROM sql.teams\n",
    "```\n",
    "\n",
    "→ Сколько в таблице teams команд с коротким названием VAL?\n",
    "\n",
    "```sql\n",
    "SELECT COUNT(short_name) FROM sql.teams WHERE short_name='VAL'\n",
    "```\n",
    "\n",
    "Информацию о скольких матчах содержит таблица matches?\n",
    "\n",
    "```sql\n",
    "SELECT COUNT(*) FROM sql.matches\n",
    "```\n",
    "\n",
    "→ Данные за какие сезоны даны в таблице matches?\n",
    "\n",
    "```sql\n",
    "SELECT season,COUNT(*) FROM sql.matches GROUP BY season ORDER BY season\n",
    "```"
   ]
  },
  {
   "cell_type": "markdown",
   "metadata": {},
   "source": [
    "Напишите запрос, который выведет сезон (season), а также общее количество забитых мячей домашними (total_home_goals) и гостевыми (total_away_goals) командами.  \n",
    "Отсортируйте по столбцу с сезоном в порядке возрастания.\n",
    "\n",
    "```sql\n",
    "SELECT season, SUM(home_team_goals) AS total_home_goals, SUM(away_team_goals) AS total_away_goals\n",
    "FROM sql.matches\n",
    "GROUP BY season\n",
    "ORDER BY season\n",
    "```"
   ]
  },
  {
   "cell_type": "markdown",
   "metadata": {},
   "source": [
    "# <center>2. Соединение таблиц по ключу</center>"
   ]
  }
 ],
 "metadata": {
  "language_info": {
   "name": "python"
  }
 },
 "nbformat": 4,
 "nbformat_minor": 2
}
